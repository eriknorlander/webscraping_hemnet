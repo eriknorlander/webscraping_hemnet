{
 "cells": [
  {
   "cell_type": "code",
   "execution_count": 1,
   "metadata": {},
   "outputs": [],
   "source": [
    "import pandas as pd \n",
    "import numpy as np\n",
    "import matplotlib.pyplot as plt"
   ]
  },
  {
   "cell_type": "code",
   "execution_count": 11,
   "metadata": {},
   "outputs": [],
   "source": [
    "columns = ['Datum', 'Område', 'Pris per kvadratmeter', 'Begärt pris',\n",
    "       'Antal rum', 'Boarea', 'Avgift/månad', 'Driftskostnad', 'Byggår',\n",
    "       'Slutpris', 'Biarea']\n",
    "df = pd.read_csv('aggregated_hemnet.csv').drop('Unnamed: 0', axis=1)\n",
    "#df.columns = columns"
   ]
  },
  {
   "cell_type": "code",
   "execution_count": 12,
   "metadata": {},
   "outputs": [
    {
     "data": {
      "text/html": [
       "<div>\n",
       "<style scoped>\n",
       "    .dataframe tbody tr th:only-of-type {\n",
       "        vertical-align: middle;\n",
       "    }\n",
       "\n",
       "    .dataframe tbody tr th {\n",
       "        vertical-align: top;\n",
       "    }\n",
       "\n",
       "    .dataframe thead th {\n",
       "        text-align: right;\n",
       "    }\n",
       "</style>\n",
       "<table border=\"1\" class=\"dataframe\">\n",
       "  <thead>\n",
       "    <tr style=\"text-align: right;\">\n",
       "      <th></th>\n",
       "      <th>index</th>\n",
       "      <th>Datum</th>\n",
       "      <th>Område</th>\n",
       "      <th>Pris per kvadratmeter</th>\n",
       "      <th>Begärt pris</th>\n",
       "      <th>Antal rum</th>\n",
       "      <th>Boarea</th>\n",
       "      <th>Avgift/månad</th>\n",
       "      <th>Driftskostnad</th>\n",
       "      <th>Byggår</th>\n",
       "      <th>Slutpris</th>\n",
       "      <th>Biarea</th>\n",
       "      <th>Prisökning</th>\n",
       "    </tr>\n",
       "  </thead>\n",
       "  <tbody>\n",
       "    <tr>\n",
       "      <th>0</th>\n",
       "      <td>https://www.hemnet.se/salda/lagenhet-1rum-sode...</td>\n",
       "      <td>2019-12-21</td>\n",
       "      <td>sodermalm</td>\n",
       "      <td>102500.0</td>\n",
       "      <td>3495000.0</td>\n",
       "      <td>1.0</td>\n",
       "      <td>40.0</td>\n",
       "      <td>1160.0</td>\n",
       "      <td>9500.0</td>\n",
       "      <td>1889.0</td>\n",
       "      <td>4100000</td>\n",
       "      <td>NaN</td>\n",
       "      <td>0.173104</td>\n",
       "    </tr>\n",
       "    <tr>\n",
       "      <th>1</th>\n",
       "      <td>https://www.hemnet.se/salda/lagenhet-1rum-fred...</td>\n",
       "      <td>2019-12-21</td>\n",
       "      <td>kungsholmen</td>\n",
       "      <td>107955.0</td>\n",
       "      <td>1995000.0</td>\n",
       "      <td>1.0</td>\n",
       "      <td>22.0</td>\n",
       "      <td>1581.0</td>\n",
       "      <td>2800.0</td>\n",
       "      <td>1937.0</td>\n",
       "      <td>2375000</td>\n",
       "      <td>NaN</td>\n",
       "      <td>0.190476</td>\n",
       "    </tr>\n",
       "    <tr>\n",
       "      <th>2</th>\n",
       "      <td>https://www.hemnet.se/salda/lagenhet-2rum-birk...</td>\n",
       "      <td>2019-12-20</td>\n",
       "      <td>vasastan</td>\n",
       "      <td>108500.0</td>\n",
       "      <td>4495000.0</td>\n",
       "      <td>2.0</td>\n",
       "      <td>50.0</td>\n",
       "      <td>550.0</td>\n",
       "      <td>3600.0</td>\n",
       "      <td>1912.0</td>\n",
       "      <td>5425000</td>\n",
       "      <td>NaN</td>\n",
       "      <td>0.206897</td>\n",
       "    </tr>\n",
       "    <tr>\n",
       "      <th>3</th>\n",
       "      <td>https://www.hemnet.se/salda/lagenhet-1rum-kung...</td>\n",
       "      <td>2019-12-20</td>\n",
       "      <td>kungsholmen</td>\n",
       "      <td>103704.0</td>\n",
       "      <td>2800000.0</td>\n",
       "      <td>1.0</td>\n",
       "      <td>27.0</td>\n",
       "      <td>790.0</td>\n",
       "      <td>4164.0</td>\n",
       "      <td>1937.0</td>\n",
       "      <td>2800000</td>\n",
       "      <td>NaN</td>\n",
       "      <td>0.000000</td>\n",
       "    </tr>\n",
       "    <tr>\n",
       "      <th>4</th>\n",
       "      <td>https://www.hemnet.se/salda/lagenhet-3rum-lill...</td>\n",
       "      <td>2019-12-20</td>\n",
       "      <td>lilla_essingen</td>\n",
       "      <td>62202.0</td>\n",
       "      <td>4995000.0</td>\n",
       "      <td>3.0</td>\n",
       "      <td>84.0</td>\n",
       "      <td>3689.0</td>\n",
       "      <td>5500.0</td>\n",
       "      <td>1939.0</td>\n",
       "      <td>5225000</td>\n",
       "      <td>NaN</td>\n",
       "      <td>0.046046</td>\n",
       "    </tr>\n",
       "    <tr>\n",
       "      <th>...</th>\n",
       "      <td>...</td>\n",
       "      <td>...</td>\n",
       "      <td>...</td>\n",
       "      <td>...</td>\n",
       "      <td>...</td>\n",
       "      <td>...</td>\n",
       "      <td>...</td>\n",
       "      <td>...</td>\n",
       "      <td>...</td>\n",
       "      <td>...</td>\n",
       "      <td>...</td>\n",
       "      <td>...</td>\n",
       "      <td>...</td>\n",
       "    </tr>\n",
       "    <tr>\n",
       "      <th>14516</th>\n",
       "      <td>https://www.hemnet.se/salda/lagenhet-1,5rum-li...</td>\n",
       "      <td>2013-01-24</td>\n",
       "      <td>lilla_essingen</td>\n",
       "      <td>47500.0</td>\n",
       "      <td>1950000.0</td>\n",
       "      <td>1.5</td>\n",
       "      <td>40.0</td>\n",
       "      <td>2269.0</td>\n",
       "      <td>3400.0</td>\n",
       "      <td>1939.0</td>\n",
       "      <td>1900000</td>\n",
       "      <td>NaN</td>\n",
       "      <td>-0.025641</td>\n",
       "    </tr>\n",
       "    <tr>\n",
       "      <th>14517</th>\n",
       "      <td>https://www.hemnet.se/salda/lagenhet-1rum-lill...</td>\n",
       "      <td>2013-01-24</td>\n",
       "      <td>lilla_essingen</td>\n",
       "      <td>NaN</td>\n",
       "      <td>1650000.0</td>\n",
       "      <td>1.0</td>\n",
       "      <td>NaN</td>\n",
       "      <td>1623.0</td>\n",
       "      <td>NaN</td>\n",
       "      <td>1963.0</td>\n",
       "      <td>1800000</td>\n",
       "      <td>NaN</td>\n",
       "      <td>0.090909</td>\n",
       "    </tr>\n",
       "    <tr>\n",
       "      <th>14518</th>\n",
       "      <td>https://www.hemnet.se/salda/lagenhet-1,5rum-li...</td>\n",
       "      <td>2013-01-16</td>\n",
       "      <td>lilla_essingen</td>\n",
       "      <td>47500.0</td>\n",
       "      <td>1995000.0</td>\n",
       "      <td>1.5</td>\n",
       "      <td>42.0</td>\n",
       "      <td>1575.0</td>\n",
       "      <td>4152.0</td>\n",
       "      <td>1937.0</td>\n",
       "      <td>1995000</td>\n",
       "      <td>NaN</td>\n",
       "      <td>0.000000</td>\n",
       "    </tr>\n",
       "    <tr>\n",
       "      <th>14519</th>\n",
       "      <td>https://www.hemnet.se/salda/lagenhet-1rum-lill...</td>\n",
       "      <td>2013-01-10</td>\n",
       "      <td>lilla_essingen</td>\n",
       "      <td>NaN</td>\n",
       "      <td>1495000.0</td>\n",
       "      <td>1.0</td>\n",
       "      <td>NaN</td>\n",
       "      <td>1158.0</td>\n",
       "      <td>NaN</td>\n",
       "      <td>1939.0</td>\n",
       "      <td>1700000</td>\n",
       "      <td>NaN</td>\n",
       "      <td>0.137124</td>\n",
       "    </tr>\n",
       "    <tr>\n",
       "      <th>14520</th>\n",
       "      <td>https://www.hemnet.se/salda/lagenhet-2rum-kung...</td>\n",
       "      <td>2012-12-23</td>\n",
       "      <td>stora_essingen</td>\n",
       "      <td>NaN</td>\n",
       "      <td>2050000.0</td>\n",
       "      <td>2.0</td>\n",
       "      <td>NaN</td>\n",
       "      <td>683.0</td>\n",
       "      <td>4080.0</td>\n",
       "      <td>1939.0</td>\n",
       "      <td>2050000</td>\n",
       "      <td>NaN</td>\n",
       "      <td>0.000000</td>\n",
       "    </tr>\n",
       "  </tbody>\n",
       "</table>\n",
       "<p>14521 rows × 13 columns</p>\n",
       "</div>"
      ],
      "text/plain": [
       "                                                   index       Datum  \\\n",
       "0      https://www.hemnet.se/salda/lagenhet-1rum-sode...  2019-12-21   \n",
       "1      https://www.hemnet.se/salda/lagenhet-1rum-fred...  2019-12-21   \n",
       "2      https://www.hemnet.se/salda/lagenhet-2rum-birk...  2019-12-20   \n",
       "3      https://www.hemnet.se/salda/lagenhet-1rum-kung...  2019-12-20   \n",
       "4      https://www.hemnet.se/salda/lagenhet-3rum-lill...  2019-12-20   \n",
       "...                                                  ...         ...   \n",
       "14516  https://www.hemnet.se/salda/lagenhet-1,5rum-li...  2013-01-24   \n",
       "14517  https://www.hemnet.se/salda/lagenhet-1rum-lill...  2013-01-24   \n",
       "14518  https://www.hemnet.se/salda/lagenhet-1,5rum-li...  2013-01-16   \n",
       "14519  https://www.hemnet.se/salda/lagenhet-1rum-lill...  2013-01-10   \n",
       "14520  https://www.hemnet.se/salda/lagenhet-2rum-kung...  2012-12-23   \n",
       "\n",
       "               Område  Pris per kvadratmeter  Begärt pris  Antal rum  Boarea  \\\n",
       "0           sodermalm               102500.0    3495000.0        1.0    40.0   \n",
       "1         kungsholmen               107955.0    1995000.0        1.0    22.0   \n",
       "2            vasastan               108500.0    4495000.0        2.0    50.0   \n",
       "3         kungsholmen               103704.0    2800000.0        1.0    27.0   \n",
       "4      lilla_essingen                62202.0    4995000.0        3.0    84.0   \n",
       "...               ...                    ...          ...        ...     ...   \n",
       "14516  lilla_essingen                47500.0    1950000.0        1.5    40.0   \n",
       "14517  lilla_essingen                    NaN    1650000.0        1.0     NaN   \n",
       "14518  lilla_essingen                47500.0    1995000.0        1.5    42.0   \n",
       "14519  lilla_essingen                    NaN    1495000.0        1.0     NaN   \n",
       "14520  stora_essingen                    NaN    2050000.0        2.0     NaN   \n",
       "\n",
       "       Avgift/månad  Driftskostnad  Byggår  Slutpris  Biarea  Prisökning  \n",
       "0            1160.0         9500.0  1889.0   4100000     NaN    0.173104  \n",
       "1            1581.0         2800.0  1937.0   2375000     NaN    0.190476  \n",
       "2             550.0         3600.0  1912.0   5425000     NaN    0.206897  \n",
       "3             790.0         4164.0  1937.0   2800000     NaN    0.000000  \n",
       "4            3689.0         5500.0  1939.0   5225000     NaN    0.046046  \n",
       "...             ...            ...     ...       ...     ...         ...  \n",
       "14516        2269.0         3400.0  1939.0   1900000     NaN   -0.025641  \n",
       "14517        1623.0            NaN  1963.0   1800000     NaN    0.090909  \n",
       "14518        1575.0         4152.0  1937.0   1995000     NaN    0.000000  \n",
       "14519        1158.0            NaN  1939.0   1700000     NaN    0.137124  \n",
       "14520         683.0         4080.0  1939.0   2050000     NaN    0.000000  \n",
       "\n",
       "[14521 rows x 13 columns]"
      ]
     },
     "execution_count": 12,
     "metadata": {},
     "output_type": "execute_result"
    }
   ],
   "source": [
    "df.Område.value_count"
   ]
  },
  {
   "cell_type": "code",
   "execution_count": 370,
   "metadata": {},
   "outputs": [],
   "source": [
    "month_map = {\n",
    "        'januari' : '01',\n",
    "        'februari' : '02',\n",
    "        'mars' : '03',\n",
    "        'april': '04',\n",
    "        'maj' : '05',\n",
    "        'juni' : '06',\n",
    "        'juli' : '07',\n",
    "        'augusti' : '08',\n",
    "        'september' : '09',\n",
    "        'oktober' : '10',\n",
    "        'november' : '11',\n",
    "        'december' : '12'\n",
    "    }\n",
    "month_series = df.Datum.apply(lambda x: x[2:-4].strip(' ')).map(month_map)\n",
    "day_series = df.Datum.apply(lambda x: '-' + x[:2] + '-')\n",
    "year_series = df.Datum.apply(lambda x: x[-4:])\n",
    "df.Datum = month_series+day_series+year_series\n",
    "df.Datum = pd.to_datetime(df.Datum)"
   ]
  },
  {
   "cell_type": "code",
   "execution_count": 371,
   "metadata": {},
   "outputs": [],
   "source": [
    "df = df.sort_values('Datum', ascending=False)"
   ]
  },
  {
   "cell_type": "code",
   "execution_count": 372,
   "metadata": {},
   "outputs": [],
   "source": [
    "df.loc[~df.Byggår.isna(),'Byggår'] = df.loc[~df.Byggår.isna(),'Byggår'].map(lambda x: x[:4])\n",
    "df['Byggår'] = pd.to_numeric(df['Byggår'])"
   ]
  },
  {
   "cell_type": "code",
   "execution_count": 373,
   "metadata": {},
   "outputs": [
    {
     "name": "stdout",
     "output_type": "stream",
     "text": [
      "<class 'pandas.core.frame.DataFrame'>\n",
      "Int64Index: 2449 entries, 0 to 2448\n",
      "Data columns (total 12 columns):\n",
      "url                      2449 non-null object\n",
      "Datum                    2449 non-null datetime64[ns]\n",
      "Område                   2449 non-null object\n",
      "Pris per kvadratmeter    2449 non-null int64\n",
      "Begärt pris              2437 non-null float64\n",
      "Antal rum                2448 non-null float64\n",
      "Boarea                   2449 non-null float64\n",
      "Avgift/månad             2444 non-null float64\n",
      "Driftskostnad            1616 non-null float64\n",
      "Byggår                   2239 non-null float64\n",
      "Slutpris                 2449 non-null int64\n",
      "Biarea                   54 non-null float64\n",
      "dtypes: datetime64[ns](1), float64(7), int64(2), object(2)\n",
      "memory usage: 248.7+ KB\n"
     ]
    }
   ],
   "source": [
    "df.info()"
   ]
  },
  {
   "cell_type": "markdown",
   "metadata": {},
   "source": [
    "This seems like a job for XGBoost!"
   ]
  },
  {
   "cell_type": "code",
   "execution_count": 374,
   "metadata": {},
   "outputs": [
    {
     "name": "stdout",
     "output_type": "stream",
     "text": [
      "Feature 'url' has 2449 unique categories\n",
      "Feature 'Område' has 279 unique categories\n"
     ]
    }
   ],
   "source": [
    "def feature_check(X):\n",
    "    cat_cols = np.array([])\n",
    "    for col_name in X.columns:\n",
    "        if X[col_name].dtypes == 'object':\n",
    "            unique_cat = len(X[col_name].unique())\n",
    "            cat_cols = np.hstack([np.array(col_name), cat_cols])\n",
    "            if unique_cat > 10:\n",
    "                print(\"Feature '{col_name}' has {unique_cat} unique categories\".format(\n",
    "                        col_name=col_name, unique_cat=unique_cat))\n",
    "            else:\n",
    "                print(\"Feature '{col_name}' has {unique_cat} unique categories, which are {c}\".format(\n",
    "                    col_name=col_name, unique_cat=unique_cat,c=X[col_name].unique()))\n",
    "    return cat_cols\n",
    "  \n",
    "cat_cols = feature_check(df)\n",
    "#X.origin_up.unique()"
   ]
  },
  {
   "cell_type": "code",
   "execution_count": 375,
   "metadata": {},
   "outputs": [
    {
     "data": {
      "text/plain": [
       "<matplotlib.axes._subplots.AxesSubplot at 0x2ad814bc8d0>"
      ]
     },
     "execution_count": 375,
     "metadata": {},
     "output_type": "execute_result"
    },
    {
     "data": {
      "image/png": "[encoded data removed]",
      "text/plain": [
       "<Figure size 432x288 with 2 Axes>"
      ]
     },
     "metadata": {
      "needs_background": "light"
     },
     "output_type": "display_data"
    }
   ],
   "source": [
    "import seaborn as sns\n",
    "sns.heatmap(df.corr())"
   ]
  },
  {
   "cell_type": "code",
   "execution_count": 376,
   "metadata": {},
   "outputs": [
    {
     "data": {
      "text/plain": [
       "Slutpris                 1.000000\n",
       "Begärt pris              0.985129\n",
       "Boarea                   0.897791\n",
       "Antal rum                0.783178\n",
       "Avgift/månad             0.645492\n",
       "Driftskostnad            0.411810\n",
       "Biarea                   0.383044\n",
       "Pris per kvadratmeter    0.166845\n",
       "Byggår                  -0.043869\n",
       "Name: Slutpris, dtype: float64"
      ]
     },
     "execution_count": 376,
     "metadata": {},
     "output_type": "execute_result"
    }
   ],
   "source": [
    "df.corr()['Slutpris'].sort_values(ascending=False)"
   ]
  },
  {
   "cell_type": "code",
   "execution_count": 377,
   "metadata": {},
   "outputs": [],
   "source": [
    "df = df[~df['Begärt pris'].isna()]"
   ]
  },
  {
   "cell_type": "code",
   "execution_count": 379,
   "metadata": {},
   "outputs": [],
   "source": [
    "df['Prisökning'] = df['Slutpris'] - df['Begärt pris']"
   ]
  },
  {
   "cell_type": "code",
   "execution_count": 380,
   "metadata": {},
   "outputs": [
    {
     "data": {
      "text/plain": [
       "Prisökning               1.000000\n",
       "Slutpris                 0.286621\n",
       "Pris per kvadratmeter    0.283394\n",
       "Boarea                   0.153907\n",
       "Antal rum                0.139456\n",
       "Begärt pris              0.117750\n",
       "Driftskostnad            0.037746\n",
       "Avgift/månad             0.028451\n",
       "Biarea                  -0.085363\n",
       "Byggår                  -0.121027\n",
       "Name: Prisökning, dtype: float64"
      ]
     },
     "execution_count": 380,
     "metadata": {},
     "output_type": "execute_result"
    }
   ],
   "source": [
    "df.corr()['Prisökning'].sort_values(ascending=False)"
   ]
  },
  {
   "cell_type": "code",
   "execution_count": 381,
   "metadata": {},
   "outputs": [],
   "source": [
    "data = df.drop(['Slutpris', 'Pris per kvadratmeter', 'url'], axis=1)"
   ]
  },
  {
   "cell_type": "code",
   "execution_count": 382,
   "metadata": {},
   "outputs": [],
   "source": [
    "areas = [\n",
    "            'Kungsholmen',\n",
    "            'Vasastan',\n",
    "            'Östermalm',\n",
    "            'Södermalm',\n",
    "            'Gärdet',\n",
    "            'Norrmalm',\n",
    "            'Gamla Stan'\n",
    "        ]\n",
    "for a in areas:\n",
    "    data.loc[data.Område.str.contains(a), 'Område'] = a"
   ]
  },
  {
   "cell_type": "code",
   "execution_count": 383,
   "metadata": {},
   "outputs": [],
   "source": [
    "area_mapper = {\n",
    "                'Högalid' : 'Södermalm',\n",
    "                'Fredhäll' : 'Kungsholmen',\n",
    "                'Maria' : 'Södermalm',\n",
    "                'Hornsberg' : 'Kungsholmen',\n",
    "                'irkastan' : 'Vasastan',\n",
    "                'Katarina' : 'Södermalm',\n",
    "                'Villastan' : 'Östermalm',\n",
    "                'Röda Bergen' : 'Vasastan',\n",
    "                'Kristineberg' : 'Kungsholmen',\n",
    "                'Kunsgholmen' : 'Kungsholmen',\n",
    "                'Stadshagen' : 'Kungsholmen',\n",
    "                'Hagastaden' : 'Vasastan',\n",
    "                'Karlaplan' : 'Östermalm',\n",
    "                'Sofia' : 'Södermalm',\n",
    "                'Hornstull' : 'Södermalm',\n",
    "                'Vasatan' : 'Vasastan',\n",
    "                'Thorildsplan' : 'Kungsholmen',\n",
    "                'Nytorget' : 'Södermalm',\n",
    "                'Marieberg' : 'Kungsholmen',\n",
    "                'Sibirien' : 'Norrmalm',\n",
    "                'Skanstull' : 'Södermalm',\n",
    "                'Eriksdal' : 'Södermalm',\n",
    "                'Odenplan' : 'Vasastan',\n",
    "                'Medborgarplatsen' : 'Södermalm',\n",
    "                'Kungshomen' : 'Kungsholmen',\n",
    "                'Reimersholme' : 'Södermalm',\n",
    "                'Norr Mälarstrand' : 'Kungsholmen',\n",
    "                'SoFo' : 'Södermalm',\n",
    "                'Söderlmalm' : 'Södermalm',\n",
    "                'Fridhemsplan' : 'Kungsholmen',\n",
    "                'HORNSTULL' : 'Södermalm',\n",
    "                'Torsplan' : 'Vasastan',\n",
    "                'Stockholm' : 'Stockholm'\n",
    "             }\n",
    "\n",
    "for a in area_mapper.keys():\n",
    "    data.loc[data.Område.str.contains(a),'Område'] = area_mapper[a]"
   ]
  },
  {
   "cell_type": "code",
   "execution_count": 384,
   "metadata": {},
   "outputs": [
    {
     "data": {
      "text/plain": [
       "Kungsholmen    710\n",
       "Södermalm      675\n",
       "Vasastan       641\n",
       "Östermalm      266\n",
       "Stockholm      108\n",
       "Norrmalm        22\n",
       "Gamla Stan      15\n",
       "Name: Område, dtype: int64"
      ]
     },
     "execution_count": 384,
     "metadata": {},
     "output_type": "execute_result"
    }
   ],
   "source": [
    "data.Område.value_counts()"
   ]
  },
  {
   "cell_type": "code",
   "execution_count": 385,
   "metadata": {},
   "outputs": [],
   "source": [
    "data = data.drop('Datum', axis=1)"
   ]
  },
  {
   "cell_type": "code",
   "execution_count": 386,
   "metadata": {},
   "outputs": [
    {
     "name": "stdout",
     "output_type": "stream",
     "text": [
      "<class 'pandas.core.frame.DataFrame'>\n",
      "Int64Index: 2437 entries, 0 to 2448\n",
      "Data columns (total 9 columns):\n",
      "Område           2437 non-null object\n",
      "Begärt pris      2437 non-null float64\n",
      "Antal rum        2436 non-null float64\n",
      "Boarea           2437 non-null float64\n",
      "Avgift/månad     2432 non-null float64\n",
      "Driftskostnad    1607 non-null float64\n",
      "Byggår           2228 non-null float64\n",
      "Biarea           54 non-null float64\n",
      "Prisökning       2437 non-null float64\n",
      "dtypes: float64(8), object(1)\n",
      "memory usage: 190.4+ KB\n"
     ]
    }
   ],
   "source": [
    "data.info()"
   ]
  },
  {
   "cell_type": "code",
   "execution_count": 387,
   "metadata": {},
   "outputs": [],
   "source": [
    "data = pd.get_dummies(data)"
   ]
  },
  {
   "cell_type": "code",
   "execution_count": 388,
   "metadata": {},
   "outputs": [
    {
     "data": {
      "text/plain": [
       "<matplotlib.axes._subplots.AxesSubplot at 0x2adfe40da90>"
      ]
     },
     "execution_count": 388,
     "metadata": {},
     "output_type": "execute_result"
    },
    {
     "data": {
      "image/png": "[encoded data removed]",
      "text/plain": [
       "<Figure size 432x288 with 2 Axes>"
      ]
     },
     "metadata": {
      "needs_background": "light"
     },
     "output_type": "display_data"
    }
   ],
   "source": [
    "sns.heatmap(data.corr())"
   ]
  },
  {
   "cell_type": "code",
   "execution_count": 389,
   "metadata": {},
   "outputs": [
    {
     "data": {
      "text/plain": [
       "Prisökning            1.000000\n",
       "Boarea                0.153907\n",
       "Antal rum             0.139456\n",
       "Begärt pris           0.117750\n",
       "Område_Vasastan       0.094959\n",
       "Driftskostnad         0.037746\n",
       "Område_Södermalm      0.037341\n",
       "Avgift/månad          0.028451\n",
       "Område_Norrmalm       0.002598\n",
       "Område_Stockholm     -0.002045\n",
       "Område_Östermalm     -0.007343\n",
       "Område_Gamla Stan    -0.050376\n",
       "Biarea               -0.085363\n",
       "Område_Kungsholmen   -0.114691\n",
       "Byggår               -0.121027\n",
       "Name: Prisökning, dtype: float64"
      ]
     },
     "execution_count": 389,
     "metadata": {},
     "output_type": "execute_result"
    }
   ],
   "source": [
    "data.corr()['Prisökning'].sort_values(ascending=False)"
   ]
  },
  {
   "cell_type": "markdown",
   "metadata": {},
   "source": [
    "# Modeling"
   ]
  },
  {
   "cell_type": "code",
   "execution_count": 390,
   "metadata": {},
   "outputs": [],
   "source": [
    "from sklearn.model_selection import train_test_split\n",
    "from sklearn.preprocessing import MinMaxScaler\n",
    "scaler = MinMaxScaler()\n",
    "train = scaler.fit_transform(data.drop('Prisökning', axis=1))\n",
    "target = scaler.fit_transform(data['Prisökning'].values.reshape(-1,1))\n",
    "\n",
    "x_train, x_test, y_train, y_test = train_test_split(train,\n",
    "                                                    target,\n",
    "                                                    test_size=.2,\n",
    "                                                    random_state=42,\n",
    "                                                    shuffle=True)"
   ]
  },
  {
   "cell_type": "code",
   "execution_count": 449,
   "metadata": {},
   "outputs": [
    {
     "data": {
      "text/plain": [
       "XGBRegressor(alpha=1, base_score=0.5, booster='gbtree', colsample_bylevel=1,\n",
       "             colsample_bynode=1, colsample_bytree=0.3, gamma=0,\n",
       "             importance_type='gain', learning_rate=0.9, max_delta_step=0,\n",
       "             max_depth=20, min_child_weight=1, missing=None, n_estimators=500,\n",
       "             n_jobs=1, nthread=None, objective='reg:squarederror',\n",
       "             random_state=0, reg_alpha=0, reg_lambda=1, scale_pos_weight=1,\n",
       "             seed=None, silent=None, subsample=1, verbosity=1)"
      ]
     },
     "execution_count": 449,
     "metadata": {},
     "output_type": "execute_result"
    }
   ],
   "source": [
    "import xgboost as xgb\n",
    "model = xgb.XGBRegressor(objective ='reg:squarederror', \n",
    "                         colsample_bytree = 0.3, \n",
    "                         learning_rate = 0.9,\n",
    "                         max_depth = 20, \n",
    "                         alpha = 1, \n",
    "                         n_estimators = 500)\n",
    "model.fit(x_train, y_train)"
   ]
  },
  {
   "cell_type": "code",
   "execution_count": 450,
   "metadata": {},
   "outputs": [],
   "source": [
    "y_pred = model.predict(x_test)"
   ]
  },
  {
   "cell_type": "code",
   "execution_count": 451,
   "metadata": {},
   "outputs": [
    {
     "data": {
      "text/plain": [
       "0.0014144174339629724"
      ]
     },
     "execution_count": 451,
     "metadata": {},
     "output_type": "execute_result"
    }
   ],
   "source": [
    "from sklearn.metrics import mean_squared_error\n",
    "mean_squared_error(y_test, y_pred)"
   ]
  },
  {
   "cell_type": "code",
   "execution_count": 454,
   "metadata": {},
   "outputs": [
    {
     "data": {
      "image/png": "[encoded data removed]",
      "text/plain": [
       "<Figure size 1008x576 with 1 Axes>"
      ]
     },
     "metadata": {
      "needs_background": "light"
     },
     "output_type": "display_data"
    }
   ],
   "source": [
    "plt.figure(figsize=(14,8))\n",
    "plt.plot(np.arange(len(y_test)), y_test)\n",
    "plt.plot(np.arange(len(y_test)), y_pred)\n",
    "plt.show()"
   ]
  },
  {
   "cell_type": "code",
   "execution_count": 455,
   "metadata": {},
   "outputs": [
    {
     "data": {
      "text/plain": [
       "array([0.4526915 , 0.40918708, 0.41039783, 0.44536132, 0.43775696,\n",
       "       0.42685166, 0.43733805, 0.41073176, 0.43101373, 0.40122196,\n",
       "       0.45783132, 0.4020549 , 0.44636428, 0.43648714, 0.4214576 ,\n",
       "       0.43264556, 0.42489782, 0.45999405, 0.41811952, 0.4100448 ,\n",
       "       0.4202478 , 0.42743558, 0.4254694 , 0.4020282 , 0.43645447,\n",
       "       0.40007332, 0.43137166, 0.41587296, 0.43751436, 0.43015695,\n",
       "       0.41245908, 0.42262927, 0.45216683, 0.42060742, 0.4205835 ,\n",
       "       0.40594515, 0.4229117 , 0.41195917, 0.41095263, 0.43037942,\n",
       "       0.442893  , 0.41915768, 0.41703978, 0.45807803, 0.42103094,\n",
       "       0.42503005, 0.42511243, 0.46789172, 0.43475288, 0.4036078 ,\n",
       "       0.4540153 , 0.421784  , 0.48233485, 0.4192043 , 0.41491446,\n",
       "       0.41058964, 0.429569  , 0.4421707 , 0.424464  , 0.44759795,\n",
       "       0.44531783, 0.44516197, 0.43937352, 0.40461344, 0.41687518,\n",
       "       0.41338632, 0.44106972, 0.4213611 , 0.4172029 , 0.40377265,\n",
       "       0.40065995, 0.4396345 , 0.41879535, 0.43372026, 0.4285733 ,\n",
       "       0.4294499 , 0.44474646, 0.4319159 , 0.42905372, 0.43639064,\n",
       "       0.4260958 , 0.40343672, 0.43212923, 0.411292  , 0.4502421 ,\n",
       "       0.42493236, 0.42459226, 0.43071473, 0.45669863, 0.42964095,\n",
       "       0.4248089 , 0.42682922, 0.4601915 , 0.4269172 , 0.42570946,\n",
       "       0.40862277, 0.4300546 , 0.4235147 , 0.4365148 , 0.42372066,\n",
       "       0.42182693, 0.42107934, 0.4260642 , 0.42670286, 0.41827676,\n",
       "       0.28740937, 0.42991054, 0.40407264, 0.4097919 , 0.42592713,\n",
       "       0.4130671 , 0.43527317, 0.4287606 , 0.42939657, 0.43145725,\n",
       "       0.44959182, 0.41131872, 0.42948282, 0.44032177, 0.46107513,\n",
       "       0.41047087, 0.4374479 , 0.45704287, 0.40006447, 0.43849024,\n",
       "       0.4376139 , 0.5114156 , 0.4127715 , 0.42472994, 0.43596816,\n",
       "       0.41174227, 0.44263706, 0.4254449 , 0.4899691 , 0.47243285,\n",
       "       0.3990455 , 0.42671958, 0.4178546 , 0.44048372, 0.44015402,\n",
       "       0.45721027, 0.40551016, 0.41354358, 0.41199654, 0.4427891 ,\n",
       "       0.43714553, 0.4726263 , 0.4349903 , 0.42490485, 0.42076766,\n",
       "       0.42471248, 0.4337812 , 0.4689682 , 0.43215054, 0.4375544 ,\n",
       "       0.42542735, 0.42285633, 0.39097965, 0.4518801 , 0.4010225 ,\n",
       "       0.41511762, 0.4446969 , 0.433368  , 0.44768736, 0.43287843,\n",
       "       0.4396664 , 0.4314624 , 0.43197218, 0.43694112, 0.44582376,\n",
       "       0.45854774, 0.43788898, 0.4176286 , 0.437203  , 0.44410697,\n",
       "       0.42665517, 0.42746198, 0.3957205 , 0.4315977 , 0.4289121 ,\n",
       "       0.42253125, 0.43724483, 0.4040984 , 0.47034508, 0.4212516 ,\n",
       "       0.43321136, 0.43508783, 0.43132567, 0.4356099 , 0.42005545,\n",
       "       0.4321012 , 0.4323513 , 0.44892216, 0.4267397 , 0.41409373,\n",
       "       0.42261565, 0.40173665, 0.41630796, 0.42453158, 0.42396402,\n",
       "       0.4314503 , 0.42710373, 0.41516352, 0.426225  , 0.4451031 ,\n",
       "       0.42505428, 0.40610543, 0.45557478, 0.43755183, 0.4290593 ,\n",
       "       0.41483185, 0.44101405, 0.48102644, 0.4083566 , 0.42690444,\n",
       "       0.4289982 , 0.49956977, 0.449813  , 0.41508883, 0.41987216,\n",
       "       0.42926997, 0.41644672, 0.4194097 , 0.45168382, 0.41796342,\n",
       "       0.42968965, 0.4031051 , 0.4193676 , 0.4373423 , 0.4144947 ,\n",
       "       0.45109394, 0.44574976, 0.42799613, 0.4313532 , 0.46409047,\n",
       "       0.4501791 , 0.421849  , 0.40931928, 0.41469067, 0.41675037,\n",
       "       0.407831  , 0.46314085, 0.40892804, 0.41740888, 0.41737133,\n",
       "       0.40375206, 0.4221441 , 0.63762504, 0.4240769 , 0.4331662 ,\n",
       "       0.40998712, 0.43635538, 0.4550297 , 0.43893388, 0.42280713,\n",
       "       0.4282775 , 0.41563597, 0.42231557, 0.42939696, 0.428922  ,\n",
       "       0.42874593, 0.42842084, 0.41902047, 0.41645372, 0.45478332,\n",
       "       0.396966  , 0.43988472, 0.40971094, 0.4286422 , 0.4404544 ,\n",
       "       0.427322  , 0.4295613 , 0.42573223, 0.41158035, 0.4372818 ,\n",
       "       0.4439539 , 0.4111764 , 0.43337595, 0.43274885, 0.42020833,\n",
       "       0.41083217, 0.43639895, 0.42641008, 0.41832364, 0.412335  ,\n",
       "       0.530601  , 0.39113426, 0.4320461 , 0.40928763, 0.43027642,\n",
       "       0.42774776, 0.4133529 , 0.41243994, 0.3931255 , 0.42793658,\n",
       "       0.41633037, 0.41512576, 0.4205767 , 0.40498444, 0.42815605,\n",
       "       0.38983393, 0.44750354, 0.523129  , 0.43055683, 0.44157112,\n",
       "       0.4160622 , 0.43215337, 0.43499103, 0.4311242 , 0.43081012,\n",
       "       0.42581344, 0.43748096, 0.41705102, 0.4168663 , 0.4269722 ,\n",
       "       0.44732165, 0.42873684, 0.42468303, 0.4383031 , 0.40476012,\n",
       "       0.4377398 , 0.4192141 , 0.43780196, 0.41418415, 0.42752847,\n",
       "       0.41804078, 0.41801006, 0.4162975 , 0.42942727, 0.43256092,\n",
       "       0.4123685 , 0.40339756, 0.43928376, 0.43002012, 0.42837065,\n",
       "       0.4249736 , 0.41319662, 0.45866436, 0.4354545 , 0.41826928,\n",
       "       0.4654372 , 0.4333989 , 0.44053698, 0.4101076 , 0.40256867,\n",
       "       0.53422165, 0.40866953, 0.42450604, 0.43875605, 0.43819413,\n",
       "       0.441495  , 0.40843123, 0.45531   , 0.44126648, 0.42351368,\n",
       "       0.4129776 , 0.4257085 , 0.43394798, 0.4115026 , 0.44838774,\n",
       "       0.41292173, 0.4885261 , 0.4157571 , 0.45836222, 0.43023133,\n",
       "       0.41840976, 0.4330219 , 0.39056194, 0.4464898 , 0.40092552,\n",
       "       0.414629  , 0.38482636, 0.4198625 , 0.42086816, 0.4416625 ,\n",
       "       0.41318923, 0.42907152, 0.45063853, 0.409249  , 0.41625863,\n",
       "       0.44540918, 0.4375256 , 0.41393667, 0.4533864 , 0.41605753,\n",
       "       0.4233701 , 0.45646393, 0.4198166 , 0.4273534 , 0.4260621 ,\n",
       "       0.44198212, 0.45734507, 0.440045  , 0.44759306, 0.4256201 ,\n",
       "       0.45339242, 0.46975785, 0.40918916, 0.41066292, 0.383958  ,\n",
       "       0.44798777, 0.2505624 , 0.4266752 , 0.41937795, 0.42360935,\n",
       "       0.45225966, 0.38510665, 0.4649393 , 0.4057026 , 0.41340056,\n",
       "       0.42402524, 0.43954244, 0.4202014 , 0.4403678 , 0.4327673 ,\n",
       "       0.4411752 , 0.4272685 , 0.42917395, 0.45257282, 0.43501568,\n",
       "       0.41514242, 0.43247268, 0.41661933, 0.40826762, 0.41939107,\n",
       "       0.41264492, 0.44122452, 0.4320697 , 0.44482514, 0.4462419 ,\n",
       "       0.4195309 , 0.4223225 , 0.42144433, 0.42797384, 0.44565415,\n",
       "       0.43438226, 0.44327733, 0.44293207, 0.45597786, 0.45066547,\n",
       "       0.44039947, 0.40606725, 0.43174914, 0.43519542, 0.4447035 ,\n",
       "       0.41250402, 0.41888964, 0.42329752, 0.42253807, 0.43847787,\n",
       "       0.4149552 , 0.41809678, 0.44675368, 0.40415117, 0.41952145,\n",
       "       0.4075378 , 0.40081733, 0.45897612, 0.42127794, 0.395017  ,\n",
       "       0.43113443, 0.43331018, 0.42051664, 0.43154213, 0.42763448,\n",
       "       0.41628623, 0.42810005, 0.5030972 , 0.42213273, 0.4071508 ,\n",
       "       0.44265777, 0.423894  , 0.43559304, 0.42555067, 0.4246111 ,\n",
       "       0.4405028 , 0.4321556 , 0.41743028, 0.40710187, 0.41883188,\n",
       "       0.4253748 , 0.41371596, 0.41521686, 0.44235536, 0.42467874,\n",
       "       0.4386042 , 0.45944145, 0.41400537], dtype=float32)"
      ]
     },
     "execution_count": 455,
     "metadata": {},
     "output_type": "execute_result"
    }
   ],
   "source": [
    "y_pred"
   ]
  },
  {
   "cell_type": "code",
   "execution_count": null,
   "metadata": {},
   "outputs": [],
   "source": []
  },
  {
   "cell_type": "code",
   "execution_count": null,
   "metadata": {},
   "outputs": [],
   "source": []
  }
 ],
 "metadata": {
  "kernelspec": {
   "display_name": "Python 3",
   "language": "python",
   "name": "python3"
  },
  "language_info": {
   "codemirror_mode": {
    "name": "ipython",
    "version": 3
   },
   "file_extension": ".py",
   "mimetype": "text/x-python",
   "name": "python",
   "nbconvert_exporter": "python",
   "pygments_lexer": "ipython3",
   "version": "3.7.5"
  }
 },
 "nbformat": 4,
 "nbformat_minor": 2
}
