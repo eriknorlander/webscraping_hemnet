{
 "cells": [
  {
   "cell_type": "code",
   "execution_count": 1,
   "metadata": {},
   "outputs": [],
   "source": [
    "import pandas as pd \n",
    "import numpy as np\n",
    "import matplotlib.pyplot as plt"
   ]
  },
  {
   "cell_type": "code",
   "execution_count": 26,
   "metadata": {},
   "outputs": [],
   "source": [
    "df = pd.read_csv('aggregated_hemnet.csv').drop('Unnamed: 0', axis=1)\n",
    "df = df.drop('index', axis=1)"
   ]
  },
  {
   "cell_type": "code",
   "execution_count": 27,
   "metadata": {},
   "outputs": [],
   "source": [
    "df.columns = ['date', 'area', 'price_sqm', 'asking_price', 'nbr_rooms',\n",
    "       'living_space', 'rent', 'additional', 'year_built', 'closing_price',\n",
    "       'bi_area', 'price_inc_percent']"
   ]
  },
  {
   "cell_type": "code",
   "execution_count": 28,
   "metadata": {},
   "outputs": [
    {
     "name": "stdout",
     "output_type": "stream",
     "text": [
      "<class 'pandas.core.frame.DataFrame'>\n",
      "RangeIndex: 14521 entries, 0 to 14520\n",
      "Data columns (total 12 columns):\n",
      "date                 14521 non-null object\n",
      "area                 14521 non-null object\n",
      "price_sqm            14512 non-null float64\n",
      "asking_price         14521 non-null float64\n",
      "nbr_rooms            14515 non-null float64\n",
      "living_space         14512 non-null float64\n",
      "rent                 14503 non-null float64\n",
      "additional           9488 non-null float64\n",
      "year_built           13549 non-null float64\n",
      "closing_price        14521 non-null int64\n",
      "bi_area              321 non-null float64\n",
      "price_inc_percent    14521 non-null float64\n",
      "dtypes: float64(9), int64(1), object(2)\n",
      "memory usage: 1.3+ MB\n"
     ]
    }
   ],
   "source": [
    "df.info()"
   ]
  },
  {
   "cell_type": "code",
   "execution_count": 23,
   "metadata": {},
   "outputs": [],
   "source": [
    "month_map = {\n",
    "        'januari' : '01',\n",
    "        'februari' : '02',\n",
    "        'mars' : '03',\n",
    "        'april': '04',\n",
    "        'maj' : '05',\n",
    "        'juni' : '06',\n",
    "        'juli' : '07',\n",
    "        'augusti' : '08',\n",
    "        'september' : '09',\n",
    "        'oktober' : '10',\n",
    "        'november' : '11',\n",
    "        'december' : '12'\n",
    "    }\n",
    "month_series = df.date.apply(lambda x: x[2:-4].strip(' ')).map(month_map)\n",
    "day_series = df.date.apply(lambda x: '-' + x[:2] + '-')\n",
    "year_series = df.date.apply(lambda x: x[-4:])\n",
    "df.date = month_series+day_series+year_series\n",
    "df.date = pd.to_datetime(df.date)"
   ]
  },
  {
   "cell_type": "code",
   "execution_count": 24,
   "metadata": {},
   "outputs": [],
   "source": [
    "df = df.sort_values('date', ascending=False)"
   ]
  },
  {
   "cell_type": "code",
   "execution_count": 25,
   "metadata": {},
   "outputs": [
    {
     "data": {
      "text/html": [
       "<div>\n",
       "<style scoped>\n",
       "    .dataframe tbody tr th:only-of-type {\n",
       "        vertical-align: middle;\n",
       "    }\n",
       "\n",
       "    .dataframe tbody tr th {\n",
       "        vertical-align: top;\n",
       "    }\n",
       "\n",
       "    .dataframe thead th {\n",
       "        text-align: right;\n",
       "    }\n",
       "</style>\n",
       "<table border=\"1\" class=\"dataframe\">\n",
       "  <thead>\n",
       "    <tr style=\"text-align: right;\">\n",
       "      <th></th>\n",
       "      <th>date</th>\n",
       "      <th>area</th>\n",
       "      <th>price_sqm</th>\n",
       "      <th>asking_price</th>\n",
       "      <th>nbr_rooms</th>\n",
       "      <th>living_space</th>\n",
       "      <th>rent</th>\n",
       "      <th>additional</th>\n",
       "      <th>year_built</th>\n",
       "      <th>closing_price</th>\n",
       "      <th>bi_area</th>\n",
       "      <th>price_inc_percent</th>\n",
       "    </tr>\n",
       "  </thead>\n",
       "  <tbody>\n",
       "    <tr>\n",
       "      <th>0</th>\n",
       "      <td>NaT</td>\n",
       "      <td>sodermalm</td>\n",
       "      <td>102500.0</td>\n",
       "      <td>3495000.0</td>\n",
       "      <td>1.0</td>\n",
       "      <td>40.0</td>\n",
       "      <td>1160.0</td>\n",
       "      <td>9500.0</td>\n",
       "      <td>1889.0</td>\n",
       "      <td>4100000</td>\n",
       "      <td>NaN</td>\n",
       "      <td>0.173104</td>\n",
       "    </tr>\n",
       "    <tr>\n",
       "      <th>1</th>\n",
       "      <td>NaT</td>\n",
       "      <td>kungsholmen</td>\n",
       "      <td>107955.0</td>\n",
       "      <td>1995000.0</td>\n",
       "      <td>1.0</td>\n",
       "      <td>22.0</td>\n",
       "      <td>1581.0</td>\n",
       "      <td>2800.0</td>\n",
       "      <td>1937.0</td>\n",
       "      <td>2375000</td>\n",
       "      <td>NaN</td>\n",
       "      <td>0.190476</td>\n",
       "    </tr>\n",
       "    <tr>\n",
       "      <th>2</th>\n",
       "      <td>NaT</td>\n",
       "      <td>vasastan</td>\n",
       "      <td>108500.0</td>\n",
       "      <td>4495000.0</td>\n",
       "      <td>2.0</td>\n",
       "      <td>50.0</td>\n",
       "      <td>550.0</td>\n",
       "      <td>3600.0</td>\n",
       "      <td>1912.0</td>\n",
       "      <td>5425000</td>\n",
       "      <td>NaN</td>\n",
       "      <td>0.206897</td>\n",
       "    </tr>\n",
       "    <tr>\n",
       "      <th>3</th>\n",
       "      <td>NaT</td>\n",
       "      <td>kungsholmen</td>\n",
       "      <td>103704.0</td>\n",
       "      <td>2800000.0</td>\n",
       "      <td>1.0</td>\n",
       "      <td>27.0</td>\n",
       "      <td>790.0</td>\n",
       "      <td>4164.0</td>\n",
       "      <td>1937.0</td>\n",
       "      <td>2800000</td>\n",
       "      <td>NaN</td>\n",
       "      <td>0.000000</td>\n",
       "    </tr>\n",
       "    <tr>\n",
       "      <th>4</th>\n",
       "      <td>NaT</td>\n",
       "      <td>lilla_essingen</td>\n",
       "      <td>62202.0</td>\n",
       "      <td>4995000.0</td>\n",
       "      <td>3.0</td>\n",
       "      <td>84.0</td>\n",
       "      <td>3689.0</td>\n",
       "      <td>5500.0</td>\n",
       "      <td>1939.0</td>\n",
       "      <td>5225000</td>\n",
       "      <td>NaN</td>\n",
       "      <td>0.046046</td>\n",
       "    </tr>\n",
       "    <tr>\n",
       "      <th>...</th>\n",
       "      <td>...</td>\n",
       "      <td>...</td>\n",
       "      <td>...</td>\n",
       "      <td>...</td>\n",
       "      <td>...</td>\n",
       "      <td>...</td>\n",
       "      <td>...</td>\n",
       "      <td>...</td>\n",
       "      <td>...</td>\n",
       "      <td>...</td>\n",
       "      <td>...</td>\n",
       "      <td>...</td>\n",
       "    </tr>\n",
       "    <tr>\n",
       "      <th>14516</th>\n",
       "      <td>NaT</td>\n",
       "      <td>lilla_essingen</td>\n",
       "      <td>47500.0</td>\n",
       "      <td>1950000.0</td>\n",
       "      <td>1.5</td>\n",
       "      <td>40.0</td>\n",
       "      <td>2269.0</td>\n",
       "      <td>3400.0</td>\n",
       "      <td>1939.0</td>\n",
       "      <td>1900000</td>\n",
       "      <td>NaN</td>\n",
       "      <td>-0.025641</td>\n",
       "    </tr>\n",
       "    <tr>\n",
       "      <th>14517</th>\n",
       "      <td>NaT</td>\n",
       "      <td>lilla_essingen</td>\n",
       "      <td>NaN</td>\n",
       "      <td>1650000.0</td>\n",
       "      <td>1.0</td>\n",
       "      <td>NaN</td>\n",
       "      <td>1623.0</td>\n",
       "      <td>NaN</td>\n",
       "      <td>1963.0</td>\n",
       "      <td>1800000</td>\n",
       "      <td>NaN</td>\n",
       "      <td>0.090909</td>\n",
       "    </tr>\n",
       "    <tr>\n",
       "      <th>14518</th>\n",
       "      <td>NaT</td>\n",
       "      <td>lilla_essingen</td>\n",
       "      <td>47500.0</td>\n",
       "      <td>1995000.0</td>\n",
       "      <td>1.5</td>\n",
       "      <td>42.0</td>\n",
       "      <td>1575.0</td>\n",
       "      <td>4152.0</td>\n",
       "      <td>1937.0</td>\n",
       "      <td>1995000</td>\n",
       "      <td>NaN</td>\n",
       "      <td>0.000000</td>\n",
       "    </tr>\n",
       "    <tr>\n",
       "      <th>14519</th>\n",
       "      <td>NaT</td>\n",
       "      <td>lilla_essingen</td>\n",
       "      <td>NaN</td>\n",
       "      <td>1495000.0</td>\n",
       "      <td>1.0</td>\n",
       "      <td>NaN</td>\n",
       "      <td>1158.0</td>\n",
       "      <td>NaN</td>\n",
       "      <td>1939.0</td>\n",
       "      <td>1700000</td>\n",
       "      <td>NaN</td>\n",
       "      <td>0.137124</td>\n",
       "    </tr>\n",
       "    <tr>\n",
       "      <th>14520</th>\n",
       "      <td>NaT</td>\n",
       "      <td>stora_essingen</td>\n",
       "      <td>NaN</td>\n",
       "      <td>2050000.0</td>\n",
       "      <td>2.0</td>\n",
       "      <td>NaN</td>\n",
       "      <td>683.0</td>\n",
       "      <td>4080.0</td>\n",
       "      <td>1939.0</td>\n",
       "      <td>2050000</td>\n",
       "      <td>NaN</td>\n",
       "      <td>0.000000</td>\n",
       "    </tr>\n",
       "  </tbody>\n",
       "</table>\n",
       "<p>14521 rows × 12 columns</p>\n",
       "</div>"
      ],
      "text/plain": [
       "      date            area  price_sqm  asking_price  nbr_rooms  living_space  \\\n",
       "0      NaT       sodermalm   102500.0     3495000.0        1.0          40.0   \n",
       "1      NaT     kungsholmen   107955.0     1995000.0        1.0          22.0   \n",
       "2      NaT        vasastan   108500.0     4495000.0        2.0          50.0   \n",
       "3      NaT     kungsholmen   103704.0     2800000.0        1.0          27.0   \n",
       "4      NaT  lilla_essingen    62202.0     4995000.0        3.0          84.0   \n",
       "...    ...             ...        ...           ...        ...           ...   \n",
       "14516  NaT  lilla_essingen    47500.0     1950000.0        1.5          40.0   \n",
       "14517  NaT  lilla_essingen        NaN     1650000.0        1.0           NaN   \n",
       "14518  NaT  lilla_essingen    47500.0     1995000.0        1.5          42.0   \n",
       "14519  NaT  lilla_essingen        NaN     1495000.0        1.0           NaN   \n",
       "14520  NaT  stora_essingen        NaN     2050000.0        2.0           NaN   \n",
       "\n",
       "         rent  additional  year_built  closing_price  bi_area  \\\n",
       "0      1160.0      9500.0      1889.0        4100000      NaN   \n",
       "1      1581.0      2800.0      1937.0        2375000      NaN   \n",
       "2       550.0      3600.0      1912.0        5425000      NaN   \n",
       "3       790.0      4164.0      1937.0        2800000      NaN   \n",
       "4      3689.0      5500.0      1939.0        5225000      NaN   \n",
       "...       ...         ...         ...            ...      ...   \n",
       "14516  2269.0      3400.0      1939.0        1900000      NaN   \n",
       "14517  1623.0         NaN      1963.0        1800000      NaN   \n",
       "14518  1575.0      4152.0      1937.0        1995000      NaN   \n",
       "14519  1158.0         NaN      1939.0        1700000      NaN   \n",
       "14520   683.0      4080.0      1939.0        2050000      NaN   \n",
       "\n",
       "       price_inc_percent  \n",
       "0               0.173104  \n",
       "1               0.190476  \n",
       "2               0.206897  \n",
       "3               0.000000  \n",
       "4               0.046046  \n",
       "...                  ...  \n",
       "14516          -0.025641  \n",
       "14517           0.090909  \n",
       "14518           0.000000  \n",
       "14519           0.137124  \n",
       "14520           0.000000  \n",
       "\n",
       "[14521 rows x 12 columns]"
      ]
     },
     "execution_count": 25,
     "metadata": {},
     "output_type": "execute_result"
    }
   ],
   "source": [
    "df"
   ]
  },
  {
   "cell_type": "code",
   "execution_count": 372,
   "metadata": {},
   "outputs": [],
   "source": [
    "df.loc[~df.Byggår.isna(),'Byggår'] = df.loc[~df.Byggår.isna(),'Byggår'].map(lambda x: x[:4])\n",
    "df['Byggår'] = pd.to_numeric(df['Byggår'])"
   ]
  },
  {
   "cell_type": "code",
   "execution_count": 373,
   "metadata": {},
   "outputs": [
    {
     "name": "stdout",
     "output_type": "stream",
     "text": [
      "<class 'pandas.core.frame.DataFrame'>\n",
      "Int64Index: 2449 entries, 0 to 2448\n",
      "Data columns (total 12 columns):\n",
      "url                      2449 non-null object\n",
      "Datum                    2449 non-null datetime64[ns]\n",
      "Område                   2449 non-null object\n",
      "Pris per kvadratmeter    2449 non-null int64\n",
      "Begärt pris              2437 non-null float64\n",
      "Antal rum                2448 non-null float64\n",
      "Boarea                   2449 non-null float64\n",
      "Avgift/månad             2444 non-null float64\n",
      "Driftskostnad            1616 non-null float64\n",
      "Byggår                   2239 non-null float64\n",
      "Slutpris                 2449 non-null int64\n",
      "Biarea                   54 non-null float64\n",
      "dtypes: datetime64[ns](1), float64(7), int64(2), object(2)\n",
      "memory usage: 248.7+ KB\n"
     ]
    }
   ],
   "source": [
    "df.info()"
   ]
  },
  {
   "cell_type": "markdown",
   "metadata": {},
   "source": [
    "This seems like a job for XGBoost!"
   ]
  },
  {
   "cell_type": "code",
   "execution_count": 29,
   "metadata": {},
   "outputs": [
    {
     "name": "stdout",
     "output_type": "stream",
     "text": [
      "Feature 'date' has 1690 unique categories\n",
      "Feature 'area' has 8 unique categories, which are ['sodermalm' 'kungsholmen' 'vasastan' 'lilla_essingen' 'gardet'\n",
      " 'ostermalm' 'gamla_stan' 'stora_essingen']\n"
     ]
    }
   ],
   "source": [
    "def feature_check(X):\n",
    "    cat_cols = np.array([])\n",
    "    for col_name in X.columns:\n",
    "        if X[col_name].dtypes == 'object':\n",
    "            unique_cat = len(X[col_name].unique())\n",
    "            cat_cols = np.hstack([np.array(col_name), cat_cols])\n",
    "            if unique_cat > 10:\n",
    "                print(\"Feature '{col_name}' has {unique_cat} unique categories\".format(\n",
    "                        col_name=col_name, unique_cat=unique_cat))\n",
    "            else:\n",
    "                print(\"Feature '{col_name}' has {unique_cat} unique categories, which are {c}\".format(\n",
    "                    col_name=col_name, unique_cat=unique_cat,c=X[col_name].unique()))\n",
    "    return cat_cols\n",
    "  \n",
    "cat_cols = feature_check(df)\n",
    "#X.origin_up.unique()"
   ]
  },
  {
   "cell_type": "code",
   "execution_count": 30,
   "metadata": {},
   "outputs": [
    {
     "data": {
      "text/plain": [
       "<matplotlib.axes._subplots.AxesSubplot at 0x218ef656888>"
      ]
     },
     "execution_count": 30,
     "metadata": {},
     "output_type": "execute_result"
    },
    {
     "data": {
      "image/png": "[encoded data removed]",
      "text/plain": [
       "<Figure size 432x288 with 2 Axes>"
      ]
     },
     "metadata": {
      "needs_background": "light"
     },
     "output_type": "display_data"
    }
   ],
   "source": [
    "import seaborn as sns\n",
    "sns.heatmap(df.corr())"
   ]
  },
  {
   "cell_type": "code",
   "execution_count": 32,
   "metadata": {},
   "outputs": [
    {
     "data": {
      "text/plain": [
       "price_sqm            1.000000\n",
       "price_inc_percent    0.346521\n",
       "closing_price        0.213573\n",
       "asking_price         0.169107\n",
       "bi_area              0.075368\n",
       "additional          -0.075175\n",
       "year_built          -0.100974\n",
       "living_space        -0.165208\n",
       "nbr_rooms           -0.180821\n",
       "rent                -0.358677\n",
       "Name: price_sqm, dtype: float64"
      ]
     },
     "execution_count": 32,
     "metadata": {},
     "output_type": "execute_result"
    }
   ],
   "source": [
    "df.corr()['price_sqm'].sort_values(ascending=False)"
   ]
  },
  {
   "cell_type": "code",
   "execution_count": 36,
   "metadata": {},
   "outputs": [
    {
     "data": {
      "text/plain": [
       "<matplotlib.axes._subplots.AxesSubplot at 0x218f17b0288>"
      ]
     },
     "execution_count": 36,
     "metadata": {},
     "output_type": "execute_result"
    },
    {
     "data": {
      "image/png": "[encoded data removed]",
      "text/plain": [
       "<Figure size 432x288 with 1 Axes>"
      ]
     },
     "metadata": {
      "needs_background": "light"
     },
     "output_type": "display_data"
    }
   ],
   "source": [
    "df.groupby('area').price_sqm.median().sort_values(ascending=False).plot.bar()"
   ]
  },
  {
   "cell_type": "code",
   "execution_count": 595,
   "metadata": {},
   "outputs": [],
   "source": [
    "df['date_dt'] = pd.to_datetime(df.date)"
   ]
  },
  {
   "cell_type": "code",
   "execution_count": 601,
   "metadata": {},
   "outputs": [
    {
     "data": {
      "text/plain": [
       "ostermalm         2494\n",
       "sodermalm         2494\n",
       "vasastan          2489\n",
       "kungsholmen       2489\n",
       "gardet            2489\n",
       "lilla_essingen    1196\n",
       "stora_essingen     701\n",
       "gamla_stan         169\n",
       "Name: area, dtype: int64"
      ]
     },
     "execution_count": 601,
     "metadata": {},
     "output_type": "execute_result"
    }
   ],
   "source": [
    "df.area.value_counts()"
   ]
  },
  {
   "cell_type": "code",
   "execution_count": 614,
   "metadata": {},
   "outputs": [],
   "source": [
    "price = df.loc[df.area=='vasastan'].price_sqm\n",
    "price.index = df.loc[df.area=='vasastan'].date_dt"
   ]
  },
  {
   "cell_type": "code",
   "execution_count": 621,
   "metadata": {},
   "outputs": [],
   "source": [
    "price = price.resample('2D').mean()"
   ]
  },
  {
   "cell_type": "code",
   "execution_count": 622,
   "metadata": {},
   "outputs": [],
   "source": [
    "price = price.interpolate()"
   ]
  },
  {
   "cell_type": "code",
   "execution_count": 623,
   "metadata": {},
   "outputs": [],
   "source": [
    "scaler = PowerTransformer(method='box-cox', standardize=False)\n",
    "p_scaled = pd.Series(scaler.fit_transform(price.values.reshape(-1,1)).flatten())\n",
    "p_scaled.index = price.index"
   ]
  },
  {
   "cell_type": "code",
   "execution_count": 624,
   "metadata": {},
   "outputs": [
    {
     "data": {
      "text/plain": [
       "date_dt\n",
       "2018-06-29    9.729457\n",
       "2018-07-01    9.882008\n",
       "2018-07-03    9.738385\n",
       "2018-07-05    9.677421\n",
       "2018-07-07    9.697024\n",
       "                ...   \n",
       "2019-12-11    9.726496\n",
       "2019-12-13    9.631069\n",
       "2019-12-15    9.549514\n",
       "2019-12-17    9.709043\n",
       "2019-12-19    9.732239\n",
       "Freq: 2D, Length: 270, dtype: float64"
      ]
     },
     "execution_count": 624,
     "metadata": {},
     "output_type": "execute_result"
    }
   ],
   "source": [
    "p_scaled"
   ]
  },
  {
   "cell_type": "code",
   "execution_count": 626,
   "metadata": {},
   "outputs": [
    {
     "data": {
      "text/plain": [
       "<matplotlib.axes._subplots.AxesSubplot at 0x219102e6f88>"
      ]
     },
     "execution_count": 626,
     "metadata": {},
     "output_type": "execute_result"
    },
    {
     "data": {
      "image/png": "[encoded data removed]",
      "text/plain": [
       "<Figure size 432x288 with 1 Axes>"
      ]
     },
     "metadata": {
      "needs_background": "light"
     },
     "output_type": "display_data"
    }
   ],
   "source": [
    "p_scaled.rolling(12).mean().plot(label='12 Month Rolling Mean')\n",
    "#p_scaled.rolling(12).std().plot(label='12 Month Rolling Mean')\n",
    "p_scaled.plot()"
   ]
  },
  {
   "cell_type": "code",
   "execution_count": 627,
   "metadata": {},
   "outputs": [],
   "source": [
    "from statsmodels.tsa.seasonal import seasonal_decompose\n",
    "decomp = seasonal_decompose(p_scaled)"
   ]
  },
  {
   "cell_type": "code",
   "execution_count": 634,
   "metadata": {},
   "outputs": [
    {
     "data": {
      "image/png": "[encoded data removed]",
      "text/plain": [
       "<Figure size 936x576 with 4 Axes>"
      ]
     },
     "metadata": {
      "needs_background": "light"
     },
     "output_type": "display_data"
    }
   ],
   "source": [
    "fig = decomp.plot()\n",
    "fig.set_size_inches(13,8)\n",
    "plt.show()"
   ]
  },
  {
   "cell_type": "code",
   "execution_count": 553,
   "metadata": {},
   "outputs": [],
   "source": [
    "price = price.resample('W').mean()"
   ]
  },
  {
   "cell_type": "code",
   "execution_count": 554,
   "metadata": {},
   "outputs": [
    {
     "data": {
      "text/plain": [
       "date_dt\n",
       "2012-12-23             NaN\n",
       "2012-12-30             NaN\n",
       "2013-01-06             NaN\n",
       "2013-01-13             NaN\n",
       "2013-01-20    47500.000000\n",
       "                  ...     \n",
       "2019-11-24    94183.806061\n",
       "2019-12-01    94701.431034\n",
       "2019-12-08    96150.432927\n",
       "2019-12-15    94919.368421\n",
       "2019-12-22    95366.880000\n",
       "Freq: W-SUN, Name: price_sqm, Length: 366, dtype: float64"
      ]
     },
     "execution_count": 554,
     "metadata": {},
     "output_type": "execute_result"
    }
   ],
   "source": [
    "price"
   ]
  },
  {
   "cell_type": "code",
   "execution_count": 555,
   "metadata": {},
   "outputs": [
    {
     "data": {
      "text/plain": [
       "date_dt\n",
       "2012-12-23             NaN\n",
       "2012-12-30             NaN\n",
       "2013-01-06             NaN\n",
       "2013-01-13             NaN\n",
       "2013-01-20    47500.000000\n",
       "                  ...     \n",
       "2019-11-24    94183.806061\n",
       "2019-12-01    94701.431034\n",
       "2019-12-08    96150.432927\n",
       "2019-12-15    94919.368421\n",
       "2019-12-22    95366.880000\n",
       "Freq: W-SUN, Name: price_sqm, Length: 366, dtype: float64"
      ]
     },
     "execution_count": 555,
     "metadata": {},
     "output_type": "execute_result"
    }
   ],
   "source": [
    "price"
   ]
  },
  {
   "cell_type": "code",
   "execution_count": 275,
   "metadata": {},
   "outputs": [
    {
     "data": {
      "image/png": "[encoded data removed]",
      "text/plain": [
       "<Figure size 936x360 with 1 Axes>"
      ]
     },
     "metadata": {
      "needs_background": "light"
     },
     "output_type": "display_data"
    }
   ],
   "source": [
    "plt.figure(figsize=(13,5))\n",
    "plt.plot(price.index, price)\n",
    "plt.show()"
   ]
  },
  {
   "cell_type": "code",
   "execution_count": null,
   "metadata": {},
   "outputs": [],
   "source": []
  },
  {
   "cell_type": "code",
   "execution_count": 74,
   "metadata": {},
   "outputs": [],
   "source": [
    "num_dt = pd.to_numeric(df.date_dt)\n",
    "num_dt = (num_dt - num_dt.min())/(num_dt.max() - num_dt.min())"
   ]
  },
  {
   "cell_type": "code",
   "execution_count": 76,
   "metadata": {},
   "outputs": [],
   "source": [
    "df['time'] = num_dt"
   ]
  },
  {
   "cell_type": "markdown",
   "metadata": {},
   "source": [
    "# Feature Engineering"
   ]
  },
  {
   "cell_type": "code",
   "execution_count": 469,
   "metadata": {},
   "outputs": [],
   "source": [
    "df1 = df[['area', 'nbr_rooms', 'living_space', 'rent', 'additional', 'year_built', 'bi_area', 'time', 'closing_price']]"
   ]
  },
  {
   "cell_type": "code",
   "execution_count": 471,
   "metadata": {},
   "outputs": [],
   "source": [
    "df1.loc[df1.bi_area.isna(),'bi_area'] = 0\n",
    "df1.loc[df1.additional.isna(), 'additional'] = 0\n",
    "#df1.loc[df1.rent.isna(), 'rent'] = 0"
   ]
  },
  {
   "cell_type": "code",
   "execution_count": 472,
   "metadata": {},
   "outputs": [],
   "source": [
    "df1 = df1.loc[~df1.rent.isna()]"
   ]
  },
  {
   "cell_type": "code",
   "execution_count": 473,
   "metadata": {},
   "outputs": [],
   "source": [
    "df1 = df1.loc[~df1.year_built.isna()]\n",
    "df1 = df1.loc[(df1.year_built != 0) & (df1.year_built != 189.0)]"
   ]
  },
  {
   "cell_type": "code",
   "execution_count": 474,
   "metadata": {},
   "outputs": [],
   "source": [
    "df1 = df1.loc[~df1.living_space.isna()]\n",
    "df1 = df1.loc[~df1.nbr_rooms.isna()]"
   ]
  },
  {
   "cell_type": "code",
   "execution_count": 478,
   "metadata": {},
   "outputs": [
    {
     "data": {
      "text/html": [
       "<div>\n",
       "<style scoped>\n",
       "    .dataframe tbody tr th:only-of-type {\n",
       "        vertical-align: middle;\n",
       "    }\n",
       "\n",
       "    .dataframe tbody tr th {\n",
       "        vertical-align: top;\n",
       "    }\n",
       "\n",
       "    .dataframe thead th {\n",
       "        text-align: right;\n",
       "    }\n",
       "</style>\n",
       "<table border=\"1\" class=\"dataframe\">\n",
       "  <thead>\n",
       "    <tr style=\"text-align: right;\">\n",
       "      <th></th>\n",
       "      <th>area</th>\n",
       "      <th>nbr_rooms</th>\n",
       "      <th>living_space</th>\n",
       "      <th>rent</th>\n",
       "      <th>additional</th>\n",
       "      <th>year_built</th>\n",
       "      <th>bi_area</th>\n",
       "      <th>time</th>\n",
       "      <th>closing_price</th>\n",
       "    </tr>\n",
       "  </thead>\n",
       "  <tbody>\n",
       "    <tr>\n",
       "      <th>0</th>\n",
       "      <td>sodermalm</td>\n",
       "      <td>1.0</td>\n",
       "      <td>40.0</td>\n",
       "      <td>1160.0</td>\n",
       "      <td>9500.0</td>\n",
       "      <td>1889.0</td>\n",
       "      <td>0.0</td>\n",
       "      <td>1.000000</td>\n",
       "      <td>4100000</td>\n",
       "    </tr>\n",
       "    <tr>\n",
       "      <th>1</th>\n",
       "      <td>kungsholmen</td>\n",
       "      <td>1.0</td>\n",
       "      <td>22.0</td>\n",
       "      <td>1581.0</td>\n",
       "      <td>2800.0</td>\n",
       "      <td>1937.0</td>\n",
       "      <td>0.0</td>\n",
       "      <td>1.000000</td>\n",
       "      <td>2375000</td>\n",
       "    </tr>\n",
       "    <tr>\n",
       "      <th>2</th>\n",
       "      <td>vasastan</td>\n",
       "      <td>2.0</td>\n",
       "      <td>50.0</td>\n",
       "      <td>550.0</td>\n",
       "      <td>3600.0</td>\n",
       "      <td>1912.0</td>\n",
       "      <td>0.0</td>\n",
       "      <td>0.999608</td>\n",
       "      <td>5425000</td>\n",
       "    </tr>\n",
       "    <tr>\n",
       "      <th>3</th>\n",
       "      <td>kungsholmen</td>\n",
       "      <td>1.0</td>\n",
       "      <td>27.0</td>\n",
       "      <td>790.0</td>\n",
       "      <td>4164.0</td>\n",
       "      <td>1937.0</td>\n",
       "      <td>0.0</td>\n",
       "      <td>0.999608</td>\n",
       "      <td>2800000</td>\n",
       "    </tr>\n",
       "    <tr>\n",
       "      <th>4</th>\n",
       "      <td>lilla_essingen</td>\n",
       "      <td>3.0</td>\n",
       "      <td>84.0</td>\n",
       "      <td>3689.0</td>\n",
       "      <td>5500.0</td>\n",
       "      <td>1939.0</td>\n",
       "      <td>0.0</td>\n",
       "      <td>0.999608</td>\n",
       "      <td>5225000</td>\n",
       "    </tr>\n",
       "    <tr>\n",
       "      <th>...</th>\n",
       "      <td>...</td>\n",
       "      <td>...</td>\n",
       "      <td>...</td>\n",
       "      <td>...</td>\n",
       "      <td>...</td>\n",
       "      <td>...</td>\n",
       "      <td>...</td>\n",
       "      <td>...</td>\n",
       "      <td>...</td>\n",
       "    </tr>\n",
       "    <tr>\n",
       "      <th>14510</th>\n",
       "      <td>lilla_essingen</td>\n",
       "      <td>2.0</td>\n",
       "      <td>40.0</td>\n",
       "      <td>2464.0</td>\n",
       "      <td>0.0</td>\n",
       "      <td>1938.0</td>\n",
       "      <td>0.0</td>\n",
       "      <td>0.021143</td>\n",
       "      <td>2310000</td>\n",
       "    </tr>\n",
       "    <tr>\n",
       "      <th>14511</th>\n",
       "      <td>lilla_essingen</td>\n",
       "      <td>1.5</td>\n",
       "      <td>42.0</td>\n",
       "      <td>2436.0</td>\n",
       "      <td>6680.0</td>\n",
       "      <td>1936.0</td>\n",
       "      <td>0.0</td>\n",
       "      <td>0.019969</td>\n",
       "      <td>2115000</td>\n",
       "    </tr>\n",
       "    <tr>\n",
       "      <th>14515</th>\n",
       "      <td>stora_essingen</td>\n",
       "      <td>2.5</td>\n",
       "      <td>84.0</td>\n",
       "      <td>3732.0</td>\n",
       "      <td>9616.0</td>\n",
       "      <td>1935.0</td>\n",
       "      <td>0.0</td>\n",
       "      <td>0.014879</td>\n",
       "      <td>3775000</td>\n",
       "    </tr>\n",
       "    <tr>\n",
       "      <th>14516</th>\n",
       "      <td>lilla_essingen</td>\n",
       "      <td>1.5</td>\n",
       "      <td>40.0</td>\n",
       "      <td>2269.0</td>\n",
       "      <td>3400.0</td>\n",
       "      <td>1939.0</td>\n",
       "      <td>0.0</td>\n",
       "      <td>0.012529</td>\n",
       "      <td>1900000</td>\n",
       "    </tr>\n",
       "    <tr>\n",
       "      <th>14518</th>\n",
       "      <td>lilla_essingen</td>\n",
       "      <td>1.5</td>\n",
       "      <td>42.0</td>\n",
       "      <td>1575.0</td>\n",
       "      <td>4152.0</td>\n",
       "      <td>1937.0</td>\n",
       "      <td>0.0</td>\n",
       "      <td>0.009397</td>\n",
       "      <td>1995000</td>\n",
       "    </tr>\n",
       "  </tbody>\n",
       "</table>\n",
       "<p>13446 rows × 9 columns</p>\n",
       "</div>"
      ],
      "text/plain": [
       "                 area  nbr_rooms  living_space    rent  additional  \\\n",
       "0           sodermalm        1.0          40.0  1160.0      9500.0   \n",
       "1         kungsholmen        1.0          22.0  1581.0      2800.0   \n",
       "2            vasastan        2.0          50.0   550.0      3600.0   \n",
       "3         kungsholmen        1.0          27.0   790.0      4164.0   \n",
       "4      lilla_essingen        3.0          84.0  3689.0      5500.0   \n",
       "...               ...        ...           ...     ...         ...   \n",
       "14510  lilla_essingen        2.0          40.0  2464.0         0.0   \n",
       "14511  lilla_essingen        1.5          42.0  2436.0      6680.0   \n",
       "14515  stora_essingen        2.5          84.0  3732.0      9616.0   \n",
       "14516  lilla_essingen        1.5          40.0  2269.0      3400.0   \n",
       "14518  lilla_essingen        1.5          42.0  1575.0      4152.0   \n",
       "\n",
       "       year_built  bi_area      time  closing_price  \n",
       "0          1889.0      0.0  1.000000        4100000  \n",
       "1          1937.0      0.0  1.000000        2375000  \n",
       "2          1912.0      0.0  0.999608        5425000  \n",
       "3          1937.0      0.0  0.999608        2800000  \n",
       "4          1939.0      0.0  0.999608        5225000  \n",
       "...           ...      ...       ...            ...  \n",
       "14510      1938.0      0.0  0.021143        2310000  \n",
       "14511      1936.0      0.0  0.019969        2115000  \n",
       "14515      1935.0      0.0  0.014879        3775000  \n",
       "14516      1939.0      0.0  0.012529        1900000  \n",
       "14518      1937.0      0.0  0.009397        1995000  \n",
       "\n",
       "[13446 rows x 9 columns]"
      ]
     },
     "execution_count": 478,
     "metadata": {},
     "output_type": "execute_result"
    }
   ],
   "source": [
    "df1"
   ]
  },
  {
   "cell_type": "code",
   "execution_count": 637,
   "metadata": {},
   "outputs": [
    {
     "data": {
      "text/plain": [
       "<matplotlib.axes._subplots.AxesSubplot at 0x219113891c8>"
      ]
     },
     "execution_count": 637,
     "metadata": {},
     "output_type": "execute_result"
    },
    {
     "data": {
      "image/png": "[encoded data removed]",
      "text/plain": [
       "<Figure size 432x288 with 1 Axes>"
      ]
     },
     "metadata": {
      "needs_background": "light"
     },
     "output_type": "display_data"
    }
   ],
   "source": [
    "df.rent.hist(bins=30)"
   ]
  },
  {
   "cell_type": "code",
   "execution_count": 519,
   "metadata": {},
   "outputs": [],
   "source": [
    "from sklearn.preprocessing import StandardScaler, PowerTransformer\n",
    "scaler = PowerTransformer(method='box-cox', standardize=False)\n",
    "y_scaled = pd.DataFrame(scaler.fit_transform(df1[['closing_price']]+.000001))\n",
    "y_scaled.columns = ['closing_price']"
   ]
  },
  {
   "cell_type": "code",
   "execution_count": 520,
   "metadata": {},
   "outputs": [
    {
     "data": {
      "image/png": "[encoded data removed]",
      "text/plain": [
       "<Figure size 432x288 with 2 Axes>"
      ]
     },
     "metadata": {
      "needs_background": "light"
     },
     "output_type": "display_data"
    }
   ],
   "source": [
    "from scipy import stats\n",
    "import matplotlib.pyplot as plt\n",
    "for c in y_scaled.columns:\n",
    "    fig = plt.figure()\n",
    "    ax1 = fig.add_subplot(211)\n",
    "    x = df1[c]\n",
    "    prob = stats.probplot(x, dist=stats.norm, plot=ax1)\n",
    "    ax1.set_xlabel('')\n",
    "    ax1.set_title('Original Data {}'.format(c))\n",
    "    ax2 = fig.add_subplot(212)\n",
    "    xt = y_scaled[c]\n",
    "    prob = stats.probplot(xt, dist=stats.norm, plot=ax2)\n",
    "    ax2.set_title('Box Cox Transformed {}'.format(c))\n",
    "    plt.show()"
   ]
  },
  {
   "cell_type": "code",
   "execution_count": 547,
   "metadata": {},
   "outputs": [
    {
     "data": {
      "text/html": [
       "<div>\n",
       "<style scoped>\n",
       "    .dataframe tbody tr th:only-of-type {\n",
       "        vertical-align: middle;\n",
       "    }\n",
       "\n",
       "    .dataframe tbody tr th {\n",
       "        vertical-align: top;\n",
       "    }\n",
       "\n",
       "    .dataframe thead th {\n",
       "        text-align: right;\n",
       "    }\n",
       "</style>\n",
       "<table border=\"1\" class=\"dataframe\">\n",
       "  <thead>\n",
       "    <tr style=\"text-align: right;\">\n",
       "      <th></th>\n",
       "      <th>nbr_rooms</th>\n",
       "      <th>living_space</th>\n",
       "      <th>rent</th>\n",
       "      <th>additional</th>\n",
       "      <th>year_built</th>\n",
       "      <th>bi_area</th>\n",
       "      <th>time</th>\n",
       "      <th>closing_price</th>\n",
       "      <th>area_gamla_stan</th>\n",
       "      <th>area_gardet</th>\n",
       "      <th>area_kungsholmen</th>\n",
       "      <th>area_lilla_essingen</th>\n",
       "      <th>area_ostermalm</th>\n",
       "      <th>area_sodermalm</th>\n",
       "      <th>area_stora_essingen</th>\n",
       "      <th>area_vasastan</th>\n",
       "    </tr>\n",
       "  </thead>\n",
       "  <tbody>\n",
       "    <tr>\n",
       "      <th>0</th>\n",
       "      <td>1.0</td>\n",
       "      <td>40.0</td>\n",
       "      <td>1160.0</td>\n",
       "      <td>9500.0</td>\n",
       "      <td>1889.0</td>\n",
       "      <td>0.0</td>\n",
       "      <td>1.000000</td>\n",
       "      <td>4100000</td>\n",
       "      <td>0</td>\n",
       "      <td>0</td>\n",
       "      <td>0</td>\n",
       "      <td>0</td>\n",
       "      <td>0</td>\n",
       "      <td>1</td>\n",
       "      <td>0</td>\n",
       "      <td>0</td>\n",
       "    </tr>\n",
       "    <tr>\n",
       "      <th>1</th>\n",
       "      <td>1.0</td>\n",
       "      <td>22.0</td>\n",
       "      <td>1581.0</td>\n",
       "      <td>2800.0</td>\n",
       "      <td>1937.0</td>\n",
       "      <td>0.0</td>\n",
       "      <td>1.000000</td>\n",
       "      <td>2375000</td>\n",
       "      <td>0</td>\n",
       "      <td>0</td>\n",
       "      <td>1</td>\n",
       "      <td>0</td>\n",
       "      <td>0</td>\n",
       "      <td>0</td>\n",
       "      <td>0</td>\n",
       "      <td>0</td>\n",
       "    </tr>\n",
       "    <tr>\n",
       "      <th>2</th>\n",
       "      <td>2.0</td>\n",
       "      <td>50.0</td>\n",
       "      <td>550.0</td>\n",
       "      <td>3600.0</td>\n",
       "      <td>1912.0</td>\n",
       "      <td>0.0</td>\n",
       "      <td>0.999608</td>\n",
       "      <td>5425000</td>\n",
       "      <td>0</td>\n",
       "      <td>0</td>\n",
       "      <td>0</td>\n",
       "      <td>0</td>\n",
       "      <td>0</td>\n",
       "      <td>0</td>\n",
       "      <td>0</td>\n",
       "      <td>1</td>\n",
       "    </tr>\n",
       "    <tr>\n",
       "      <th>3</th>\n",
       "      <td>1.0</td>\n",
       "      <td>27.0</td>\n",
       "      <td>790.0</td>\n",
       "      <td>4164.0</td>\n",
       "      <td>1937.0</td>\n",
       "      <td>0.0</td>\n",
       "      <td>0.999608</td>\n",
       "      <td>2800000</td>\n",
       "      <td>0</td>\n",
       "      <td>0</td>\n",
       "      <td>1</td>\n",
       "      <td>0</td>\n",
       "      <td>0</td>\n",
       "      <td>0</td>\n",
       "      <td>0</td>\n",
       "      <td>0</td>\n",
       "    </tr>\n",
       "    <tr>\n",
       "      <th>4</th>\n",
       "      <td>3.0</td>\n",
       "      <td>84.0</td>\n",
       "      <td>3689.0</td>\n",
       "      <td>5500.0</td>\n",
       "      <td>1939.0</td>\n",
       "      <td>0.0</td>\n",
       "      <td>0.999608</td>\n",
       "      <td>5225000</td>\n",
       "      <td>0</td>\n",
       "      <td>0</td>\n",
       "      <td>0</td>\n",
       "      <td>1</td>\n",
       "      <td>0</td>\n",
       "      <td>0</td>\n",
       "      <td>0</td>\n",
       "      <td>0</td>\n",
       "    </tr>\n",
       "    <tr>\n",
       "      <th>...</th>\n",
       "      <td>...</td>\n",
       "      <td>...</td>\n",
       "      <td>...</td>\n",
       "      <td>...</td>\n",
       "      <td>...</td>\n",
       "      <td>...</td>\n",
       "      <td>...</td>\n",
       "      <td>...</td>\n",
       "      <td>...</td>\n",
       "      <td>...</td>\n",
       "      <td>...</td>\n",
       "      <td>...</td>\n",
       "      <td>...</td>\n",
       "      <td>...</td>\n",
       "      <td>...</td>\n",
       "      <td>...</td>\n",
       "    </tr>\n",
       "    <tr>\n",
       "      <th>14510</th>\n",
       "      <td>2.0</td>\n",
       "      <td>40.0</td>\n",
       "      <td>2464.0</td>\n",
       "      <td>0.0</td>\n",
       "      <td>1938.0</td>\n",
       "      <td>0.0</td>\n",
       "      <td>0.021143</td>\n",
       "      <td>2310000</td>\n",
       "      <td>0</td>\n",
       "      <td>0</td>\n",
       "      <td>0</td>\n",
       "      <td>1</td>\n",
       "      <td>0</td>\n",
       "      <td>0</td>\n",
       "      <td>0</td>\n",
       "      <td>0</td>\n",
       "    </tr>\n",
       "    <tr>\n",
       "      <th>14511</th>\n",
       "      <td>1.5</td>\n",
       "      <td>42.0</td>\n",
       "      <td>2436.0</td>\n",
       "      <td>6680.0</td>\n",
       "      <td>1936.0</td>\n",
       "      <td>0.0</td>\n",
       "      <td>0.019969</td>\n",
       "      <td>2115000</td>\n",
       "      <td>0</td>\n",
       "      <td>0</td>\n",
       "      <td>0</td>\n",
       "      <td>1</td>\n",
       "      <td>0</td>\n",
       "      <td>0</td>\n",
       "      <td>0</td>\n",
       "      <td>0</td>\n",
       "    </tr>\n",
       "    <tr>\n",
       "      <th>14515</th>\n",
       "      <td>2.5</td>\n",
       "      <td>84.0</td>\n",
       "      <td>3732.0</td>\n",
       "      <td>9616.0</td>\n",
       "      <td>1935.0</td>\n",
       "      <td>0.0</td>\n",
       "      <td>0.014879</td>\n",
       "      <td>3775000</td>\n",
       "      <td>0</td>\n",
       "      <td>0</td>\n",
       "      <td>0</td>\n",
       "      <td>0</td>\n",
       "      <td>0</td>\n",
       "      <td>0</td>\n",
       "      <td>1</td>\n",
       "      <td>0</td>\n",
       "    </tr>\n",
       "    <tr>\n",
       "      <th>14516</th>\n",
       "      <td>1.5</td>\n",
       "      <td>40.0</td>\n",
       "      <td>2269.0</td>\n",
       "      <td>3400.0</td>\n",
       "      <td>1939.0</td>\n",
       "      <td>0.0</td>\n",
       "      <td>0.012529</td>\n",
       "      <td>1900000</td>\n",
       "      <td>0</td>\n",
       "      <td>0</td>\n",
       "      <td>0</td>\n",
       "      <td>1</td>\n",
       "      <td>0</td>\n",
       "      <td>0</td>\n",
       "      <td>0</td>\n",
       "      <td>0</td>\n",
       "    </tr>\n",
       "    <tr>\n",
       "      <th>14518</th>\n",
       "      <td>1.5</td>\n",
       "      <td>42.0</td>\n",
       "      <td>1575.0</td>\n",
       "      <td>4152.0</td>\n",
       "      <td>1937.0</td>\n",
       "      <td>0.0</td>\n",
       "      <td>0.009397</td>\n",
       "      <td>1995000</td>\n",
       "      <td>0</td>\n",
       "      <td>0</td>\n",
       "      <td>0</td>\n",
       "      <td>1</td>\n",
       "      <td>0</td>\n",
       "      <td>0</td>\n",
       "      <td>0</td>\n",
       "      <td>0</td>\n",
       "    </tr>\n",
       "  </tbody>\n",
       "</table>\n",
       "<p>13446 rows × 16 columns</p>\n",
       "</div>"
      ],
      "text/plain": [
       "       nbr_rooms  living_space    rent  additional  year_built  bi_area  \\\n",
       "0            1.0          40.0  1160.0      9500.0      1889.0      0.0   \n",
       "1            1.0          22.0  1581.0      2800.0      1937.0      0.0   \n",
       "2            2.0          50.0   550.0      3600.0      1912.0      0.0   \n",
       "3            1.0          27.0   790.0      4164.0      1937.0      0.0   \n",
       "4            3.0          84.0  3689.0      5500.0      1939.0      0.0   \n",
       "...          ...           ...     ...         ...         ...      ...   \n",
       "14510        2.0          40.0  2464.0         0.0      1938.0      0.0   \n",
       "14511        1.5          42.0  2436.0      6680.0      1936.0      0.0   \n",
       "14515        2.5          84.0  3732.0      9616.0      1935.0      0.0   \n",
       "14516        1.5          40.0  2269.0      3400.0      1939.0      0.0   \n",
       "14518        1.5          42.0  1575.0      4152.0      1937.0      0.0   \n",
       "\n",
       "           time  closing_price  area_gamla_stan  area_gardet  \\\n",
       "0      1.000000        4100000                0            0   \n",
       "1      1.000000        2375000                0            0   \n",
       "2      0.999608        5425000                0            0   \n",
       "3      0.999608        2800000                0            0   \n",
       "4      0.999608        5225000                0            0   \n",
       "...         ...            ...              ...          ...   \n",
       "14510  0.021143        2310000                0            0   \n",
       "14511  0.019969        2115000                0            0   \n",
       "14515  0.014879        3775000                0            0   \n",
       "14516  0.012529        1900000                0            0   \n",
       "14518  0.009397        1995000                0            0   \n",
       "\n",
       "       area_kungsholmen  area_lilla_essingen  area_ostermalm  area_sodermalm  \\\n",
       "0                     0                    0               0               1   \n",
       "1                     1                    0               0               0   \n",
       "2                     0                    0               0               0   \n",
       "3                     1                    0               0               0   \n",
       "4                     0                    1               0               0   \n",
       "...                 ...                  ...             ...             ...   \n",
       "14510                 0                    1               0               0   \n",
       "14511                 0                    1               0               0   \n",
       "14515                 0                    0               0               0   \n",
       "14516                 0                    1               0               0   \n",
       "14518                 0                    1               0               0   \n",
       "\n",
       "       area_stora_essingen  area_vasastan  \n",
       "0                        0              0  \n",
       "1                        0              0  \n",
       "2                        0              1  \n",
       "3                        0              0  \n",
       "4                        0              0  \n",
       "...                    ...            ...  \n",
       "14510                    0              0  \n",
       "14511                    0              0  \n",
       "14515                    1              0  \n",
       "14516                    0              0  \n",
       "14518                    0              0  \n",
       "\n",
       "[13446 rows x 16 columns]"
      ]
     },
     "execution_count": 547,
     "metadata": {},
     "output_type": "execute_result"
    }
   ],
   "source": [
    "df1"
   ]
  },
  {
   "cell_type": "code",
   "execution_count": 550,
   "metadata": {},
   "outputs": [
    {
     "ename": "TypeError",
     "evalue": "Only valid with DatetimeIndex, TimedeltaIndex or PeriodIndex, but got an instance of 'Float64Index'",
     "output_type": "error",
     "traceback": [
      "\u001b[1;31m---------------------------------------------------------------------------\u001b[0m",
      "\u001b[1;31mTypeError\u001b[0m                                 Traceback (most recent call last)",
      "\u001b[1;32m<ipython-input-550-965c317a7f67>\u001b[0m in \u001b[0;36m<module>\u001b[1;34m\u001b[0m\n\u001b[0;32m      1\u001b[0m \u001b[0mprice\u001b[0m \u001b[1;33m=\u001b[0m \u001b[0my_scaled\u001b[0m\u001b[1;33m\u001b[0m\u001b[1;33m\u001b[0m\u001b[0m\n\u001b[0;32m      2\u001b[0m \u001b[0mprice\u001b[0m\u001b[1;33m.\u001b[0m\u001b[0mindex\u001b[0m \u001b[1;33m=\u001b[0m \u001b[0mdf1\u001b[0m\u001b[1;33m.\u001b[0m\u001b[0mtime\u001b[0m\u001b[1;33m\u001b[0m\u001b[1;33m\u001b[0m\u001b[0m\n\u001b[1;32m----> 3\u001b[1;33m \u001b[0mplt\u001b[0m\u001b[1;33m.\u001b[0m\u001b[0mplot\u001b[0m\u001b[1;33m(\u001b[0m\u001b[0mprice\u001b[0m\u001b[1;33m.\u001b[0m\u001b[0mresample\u001b[0m\u001b[1;33m(\u001b[0m\u001b[1;34m'W'\u001b[0m\u001b[1;33m)\u001b[0m\u001b[1;33m.\u001b[0m\u001b[0mmean\u001b[0m\u001b[1;33m(\u001b[0m\u001b[1;33m)\u001b[0m\u001b[1;33m)\u001b[0m\u001b[1;33m\u001b[0m\u001b[1;33m\u001b[0m\u001b[0m\n\u001b[0m",
      "\u001b[1;32m~\\AppData\\Roaming\\Python\\Python37\\site-packages\\pandas\\core\\generic.py\u001b[0m in \u001b[0;36mresample\u001b[1;34m(self, rule, how, axis, fill_method, closed, label, convention, kind, loffset, limit, base, on, level)\u001b[0m\n\u001b[0;32m   8447\u001b[0m             \u001b[0mbase\u001b[0m\u001b[1;33m=\u001b[0m\u001b[0mbase\u001b[0m\u001b[1;33m,\u001b[0m\u001b[1;33m\u001b[0m\u001b[1;33m\u001b[0m\u001b[0m\n\u001b[0;32m   8448\u001b[0m             \u001b[0mkey\u001b[0m\u001b[1;33m=\u001b[0m\u001b[0mon\u001b[0m\u001b[1;33m,\u001b[0m\u001b[1;33m\u001b[0m\u001b[1;33m\u001b[0m\u001b[0m\n\u001b[1;32m-> 8449\u001b[1;33m             \u001b[0mlevel\u001b[0m\u001b[1;33m=\u001b[0m\u001b[0mlevel\u001b[0m\u001b[1;33m,\u001b[0m\u001b[1;33m\u001b[0m\u001b[1;33m\u001b[0m\u001b[0m\n\u001b[0m\u001b[0;32m   8450\u001b[0m         )\n\u001b[0;32m   8451\u001b[0m         return _maybe_process_deprecations(\n",
      "\u001b[1;32m~\\AppData\\Roaming\\Python\\Python37\\site-packages\\pandas\\core\\resample.py\u001b[0m in \u001b[0;36mresample\u001b[1;34m(obj, kind, **kwds)\u001b[0m\n\u001b[0;32m   1304\u001b[0m     \"\"\"\n\u001b[0;32m   1305\u001b[0m     \u001b[0mtg\u001b[0m \u001b[1;33m=\u001b[0m \u001b[0mTimeGrouper\u001b[0m\u001b[1;33m(\u001b[0m\u001b[1;33m**\u001b[0m\u001b[0mkwds\u001b[0m\u001b[1;33m)\u001b[0m\u001b[1;33m\u001b[0m\u001b[1;33m\u001b[0m\u001b[0m\n\u001b[1;32m-> 1306\u001b[1;33m     \u001b[1;32mreturn\u001b[0m \u001b[0mtg\u001b[0m\u001b[1;33m.\u001b[0m\u001b[0m_get_resampler\u001b[0m\u001b[1;33m(\u001b[0m\u001b[0mobj\u001b[0m\u001b[1;33m,\u001b[0m \u001b[0mkind\u001b[0m\u001b[1;33m=\u001b[0m\u001b[0mkind\u001b[0m\u001b[1;33m)\u001b[0m\u001b[1;33m\u001b[0m\u001b[1;33m\u001b[0m\u001b[0m\n\u001b[0m\u001b[0;32m   1307\u001b[0m \u001b[1;33m\u001b[0m\u001b[0m\n\u001b[0;32m   1308\u001b[0m \u001b[1;33m\u001b[0m\u001b[0m\n",
      "\u001b[1;32m~\\AppData\\Roaming\\Python\\Python37\\site-packages\\pandas\\core\\resample.py\u001b[0m in \u001b[0;36m_get_resampler\u001b[1;34m(self, obj, kind)\u001b[0m\n\u001b[0;32m   1441\u001b[0m             \u001b[1;34m\"Only valid with DatetimeIndex, \"\u001b[0m\u001b[1;33m\u001b[0m\u001b[1;33m\u001b[0m\u001b[0m\n\u001b[0;32m   1442\u001b[0m             \u001b[1;34m\"TimedeltaIndex or PeriodIndex, \"\u001b[0m\u001b[1;33m\u001b[0m\u001b[1;33m\u001b[0m\u001b[0m\n\u001b[1;32m-> 1443\u001b[1;33m             \u001b[1;34m\"but got an instance of %r\"\u001b[0m \u001b[1;33m%\u001b[0m \u001b[0mtype\u001b[0m\u001b[1;33m(\u001b[0m\u001b[0max\u001b[0m\u001b[1;33m)\u001b[0m\u001b[1;33m.\u001b[0m\u001b[0m__name__\u001b[0m\u001b[1;33m\u001b[0m\u001b[1;33m\u001b[0m\u001b[0m\n\u001b[0m\u001b[0;32m   1444\u001b[0m         )\n\u001b[0;32m   1445\u001b[0m \u001b[1;33m\u001b[0m\u001b[0m\n",
      "\u001b[1;31mTypeError\u001b[0m: Only valid with DatetimeIndex, TimedeltaIndex or PeriodIndex, but got an instance of 'Float64Index'"
     ]
    }
   ],
   "source": [
    "price = y_scaled\n",
    "price.index = df1.time\n",
    "plt.plot(price.resample('W').mean())"
   ]
  },
  {
   "cell_type": "markdown",
   "metadata": {},
   "source": [
    "# Feature Selection"
   ]
  },
  {
   "cell_type": "code",
   "execution_count": 524,
   "metadata": {},
   "outputs": [],
   "source": [
    "df1 = pd.get_dummies(df1)"
   ]
  },
  {
   "cell_type": "code",
   "execution_count": 525,
   "metadata": {},
   "outputs": [
    {
     "data": {
      "text/plain": [
       "closing_price          1.000000\n",
       "living_space           0.901042\n",
       "nbr_rooms              0.788367\n",
       "rent                   0.597169\n",
       "area_ostermalm         0.278363\n",
       "bi_area                0.148146\n",
       "additional             0.119461\n",
       "time                   0.115276\n",
       "area_vasastan          0.090350\n",
       "area_gamla_stan        0.012618\n",
       "year_built            -0.044024\n",
       "area_gardet           -0.065098\n",
       "area_kungsholmen      -0.071899\n",
       "area_sodermalm        -0.072341\n",
       "area_stora_essingen   -0.116096\n",
       "area_lilla_essingen   -0.142939\n",
       "Name: closing_price, dtype: float64"
      ]
     },
     "execution_count": 525,
     "metadata": {},
     "output_type": "execute_result"
    }
   ],
   "source": [
    "df1.corr()['closing_price'].sort_values(ascending=False)"
   ]
  },
  {
   "cell_type": "code",
   "execution_count": 638,
   "metadata": {},
   "outputs": [],
   "source": [
    "from sklearn.model_selection import train_test_split\n",
    "X_train, X_test, y_train, y_test = train_test_split(df1.drop('closing_price', axis=1),\n",
    "                                                    df1.closing_price,\n",
    "                                                    test_size=.3,\n",
    "                                                    random_state=42)"
   ]
  },
  {
   "cell_type": "code",
   "execution_count": 639,
   "metadata": {},
   "outputs": [],
   "source": [
    "from sklearn.linear_model import Lasso, Ridge, ElasticNet, LinearRegression\n",
    "from sklearn.ensemble import RandomForestRegressor\n",
    "fs_dict = {\n",
    "    'Ridge' : Ridge(max_iter=10000),\n",
    "    'Lasso' : Lasso(max_iter=10000, alpha=10),\n",
    "    'Linear' : LinearRegression(),\n",
    "    'RandomForest' : RandomForestRegressor(random_state=42)\n",
    "    \n",
    "}\n",
    "for k in fs_dict.keys():\n",
    "    fs_dict[k].fit(X_train, y_train)"
   ]
  },
  {
   "cell_type": "code",
   "execution_count": 640,
   "metadata": {},
   "outputs": [
    {
     "data": {
      "text/plain": [
       "<matplotlib.axes._subplots.AxesSubplot at 0x21911457d48>"
      ]
     },
     "execution_count": 640,
     "metadata": {},
     "output_type": "execute_result"
    },
    {
     "data": {
      "image/png": "[encoded data removed]",
      "text/plain": [
       "<Figure size 432x288 with 1 Axes>"
      ]
     },
     "metadata": {
      "needs_background": "light"
     },
     "output_type": "display_data"
    }
   ],
   "source": [
    "tra_col = X_train.columns\n",
    "coef = pd.Series(fs_dict['Ridge'].coef_).sort_values(ascending=False)\n",
    "coef.index = tra_col\n",
    "coef.plot.bar()"
   ]
  },
  {
   "cell_type": "code",
   "execution_count": 641,
   "metadata": {},
   "outputs": [
    {
     "data": {
      "text/plain": [
       "<matplotlib.axes._subplots.AxesSubplot at 0x219114f8708>"
      ]
     },
     "execution_count": 641,
     "metadata": {},
     "output_type": "execute_result"
    },
    {
     "data": {
      "image/png": "[encoded data removed]",
      "text/plain": [
       "<Figure size 432x288 with 1 Axes>"
      ]
     },
     "metadata": {
      "needs_background": "light"
     },
     "output_type": "display_data"
    }
   ],
   "source": [
    "tra_col = X_train.columns\n",
    "coef = pd.Series(fs_dict['Linear'].coef_).sort_values(ascending=False)\n",
    "coef.index = tra_col\n",
    "coef.plot.bar()"
   ]
  },
  {
   "cell_type": "code",
   "execution_count": 642,
   "metadata": {},
   "outputs": [
    {
     "data": {
      "text/plain": [
       "<matplotlib.axes._subplots.AxesSubplot at 0x21916666188>"
      ]
     },
     "execution_count": 642,
     "metadata": {},
     "output_type": "execute_result"
    },
    {
     "data": {
      "image/png": "[encoded data removed]",
      "text/plain": [
       "<Figure size 432x288 with 1 Axes>"
      ]
     },
     "metadata": {
      "needs_background": "light"
     },
     "output_type": "display_data"
    }
   ],
   "source": [
    "tra_col = X_train.columns\n",
    "coef = pd.Series(fs_dict['Lasso'].coef_).sort_values(ascending=False)\n",
    "coef.index = tra_col\n",
    "coef.plot.bar()"
   ]
  },
  {
   "cell_type": "code",
   "execution_count": 643,
   "metadata": {},
   "outputs": [
    {
     "data": {
      "text/plain": [
       "<matplotlib.axes._subplots.AxesSubplot at 0x2191672e8c8>"
      ]
     },
     "execution_count": 643,
     "metadata": {},
     "output_type": "execute_result"
    },
    {
     "data": {
      "image/png": "[encoded data removed]",
      "text/plain": [
       "<Figure size 432x288 with 1 Axes>"
      ]
     },
     "metadata": {
      "needs_background": "light"
     },
     "output_type": "display_data"
    }
   ],
   "source": [
    "tra_col = X_train.columns\n",
    "coef = pd.Series(fs_dict['RandomForest'].feature_importances_).sort_values(ascending=False)\n",
    "coef.index = tra_col\n",
    "coef.plot.bar()"
   ]
  },
  {
   "cell_type": "code",
   "execution_count": 645,
   "metadata": {},
   "outputs": [],
   "source": [
    "from sklearn.metrics import mean_squared_error, mean_absolute_error, explained_variance_score, r2_score\n",
    "y_true = y_test\n",
    "scoring = {'mse' : mean_squared_error, \n",
    "           'mae' : mean_absolute_error, \n",
    "           'evs' : explained_variance_score, \n",
    "           'r2' : r2_score}\n",
    "predictions = {}\n",
    "score_dict = {}\n",
    "for k in fs_dict.keys():\n",
    "    score_dict[k] = {}\n",
    "    y_pred = fs_dict[k].predict(X_test)\n",
    "    predictions[k] = y_pred\n",
    "    for m in scoring.keys():\n",
    "        score_dict[k][m] = scoring[m](y_true, y_pred)\n",
    "    "
   ]
  },
  {
   "cell_type": "code",
   "execution_count": 646,
   "metadata": {},
   "outputs": [
    {
     "data": {
      "text/plain": [
       "mse    1.119882e+12\n",
       "mae    4.819229e+05\n",
       "evs    8.702200e-01\n",
       "r2     8.702007e-01\n",
       "Name: RandomForest, dtype: float64"
      ]
     },
     "execution_count": 646,
     "metadata": {},
     "output_type": "execute_result"
    }
   ],
   "source": [
    "pd.DataFrame.from_dict(score_dict, orient='index').loc['RandomForest']"
   ]
  },
  {
   "cell_type": "code",
   "execution_count": 647,
   "metadata": {},
   "outputs": [
    {
     "data": {
      "text/plain": [
       "{'Ridge': array([5284851.94812371, 2759221.1311329 , 4938098.77752568, ...,\n",
       "        3406482.62887933, 5686492.31103268, 3355067.29673244]),\n",
       " 'Lasso': array([5286023.61827792, 2758920.9508154 , 4938357.73123317, ...,\n",
       "        3406590.77728943, 5686524.75762531, 3354907.36187641]),\n",
       " 'Linear': array([5286186.74275154, 2758960.98787598, 4938451.31974596, ...,\n",
       "        3406624.66142306, 5686585.71582106, 3354954.13670756]),\n",
       " 'RandomForest': array([5337150., 3495800., 4911500., ..., 3502110., 5489700., 3177150.])}"
      ]
     },
     "execution_count": 647,
     "metadata": {},
     "output_type": "execute_result"
    }
   ],
   "source": [
    "predictions"
   ]
  },
  {
   "cell_type": "code",
   "execution_count": 661,
   "metadata": {},
   "outputs": [
    {
     "data": {
      "text/plain": [
       "<matplotlib.collections.PathCollection at 0x21917181988>"
      ]
     },
     "execution_count": 661,
     "metadata": {},
     "output_type": "execute_result"
    },
    {
     "data": {
      "image/png": "[encoded data removed]",
      "text/plain": [
       "<Figure size 1008x576 with 1 Axes>"
      ]
     },
     "metadata": {
      "needs_background": "light"
     },
     "output_type": "display_data"
    }
   ],
   "source": [
    "plt.figure(figsize=(14,8))\n",
    "plt.scatter(X_test.living_space, y_true.values)\n",
    "plt.scatter(X_test.living_space, predictions['RandomForest'])"
   ]
  },
  {
   "cell_type": "code",
   "execution_count": 649,
   "metadata": {},
   "outputs": [
    {
     "data": {
      "text/plain": [
       "481922.88289621554"
      ]
     },
     "execution_count": 649,
     "metadata": {},
     "output_type": "execute_result"
    }
   ],
   "source": [
    "np.mean(abs(predictions['RandomForest']-y_true.values))"
   ]
  },
  {
   "cell_type": "code",
   "execution_count": 652,
   "metadata": {},
   "outputs": [
    {
     "data": {
      "text/html": [
       "<div>\n",
       "<style scoped>\n",
       "    .dataframe tbody tr th:only-of-type {\n",
       "        vertical-align: middle;\n",
       "    }\n",
       "\n",
       "    .dataframe tbody tr th {\n",
       "        vertical-align: top;\n",
       "    }\n",
       "\n",
       "    .dataframe thead th {\n",
       "        text-align: right;\n",
       "    }\n",
       "</style>\n",
       "<table border=\"1\" class=\"dataframe\">\n",
       "  <thead>\n",
       "    <tr style=\"text-align: right;\">\n",
       "      <th></th>\n",
       "      <th>nbr_rooms</th>\n",
       "      <th>living_space</th>\n",
       "      <th>rent</th>\n",
       "      <th>additional</th>\n",
       "      <th>year_built</th>\n",
       "      <th>bi_area</th>\n",
       "      <th>time</th>\n",
       "      <th>area_gamla_stan</th>\n",
       "      <th>area_gardet</th>\n",
       "      <th>area_kungsholmen</th>\n",
       "      <th>area_lilla_essingen</th>\n",
       "      <th>area_ostermalm</th>\n",
       "      <th>area_sodermalm</th>\n",
       "      <th>area_stora_essingen</th>\n",
       "      <th>area_vasastan</th>\n",
       "    </tr>\n",
       "  </thead>\n",
       "  <tbody>\n",
       "    <tr>\n",
       "      <th>6365</th>\n",
       "      <td>2.0</td>\n",
       "      <td>53.0</td>\n",
       "      <td>2337.0</td>\n",
       "      <td>9504.0</td>\n",
       "      <td>1917.0</td>\n",
       "      <td>0.0</td>\n",
       "      <td>0.889585</td>\n",
       "      <td>0</td>\n",
       "      <td>0</td>\n",
       "      <td>0</td>\n",
       "      <td>0</td>\n",
       "      <td>0</td>\n",
       "      <td>0</td>\n",
       "      <td>0</td>\n",
       "      <td>1</td>\n",
       "    </tr>\n",
       "    <tr>\n",
       "      <th>1046</th>\n",
       "      <td>3.0</td>\n",
       "      <td>70.0</td>\n",
       "      <td>2293.0</td>\n",
       "      <td>14520.0</td>\n",
       "      <td>1897.0</td>\n",
       "      <td>29.0</td>\n",
       "      <td>0.980031</td>\n",
       "      <td>0</td>\n",
       "      <td>0</td>\n",
       "      <td>0</td>\n",
       "      <td>0</td>\n",
       "      <td>0</td>\n",
       "      <td>0</td>\n",
       "      <td>0</td>\n",
       "      <td>1</td>\n",
       "    </tr>\n",
       "    <tr>\n",
       "      <th>5832</th>\n",
       "      <td>2.0</td>\n",
       "      <td>74.0</td>\n",
       "      <td>2940.0</td>\n",
       "      <td>0.0</td>\n",
       "      <td>1882.0</td>\n",
       "      <td>0.0</td>\n",
       "      <td>0.897807</td>\n",
       "      <td>0</td>\n",
       "      <td>0</td>\n",
       "      <td>0</td>\n",
       "      <td>0</td>\n",
       "      <td>0</td>\n",
       "      <td>0</td>\n",
       "      <td>0</td>\n",
       "      <td>1</td>\n",
       "    </tr>\n",
       "    <tr>\n",
       "      <th>7877</th>\n",
       "      <td>2.0</td>\n",
       "      <td>56.0</td>\n",
       "      <td>2800.0</td>\n",
       "      <td>3900.0</td>\n",
       "      <td>1947.0</td>\n",
       "      <td>0.0</td>\n",
       "      <td>0.856304</td>\n",
       "      <td>0</td>\n",
       "      <td>0</td>\n",
       "      <td>0</td>\n",
       "      <td>0</td>\n",
       "      <td>0</td>\n",
       "      <td>0</td>\n",
       "      <td>0</td>\n",
       "      <td>1</td>\n",
       "    </tr>\n",
       "    <tr>\n",
       "      <th>2195</th>\n",
       "      <td>1.0</td>\n",
       "      <td>23.0</td>\n",
       "      <td>881.0</td>\n",
       "      <td>3600.0</td>\n",
       "      <td>1880.0</td>\n",
       "      <td>0.0</td>\n",
       "      <td>0.964370</td>\n",
       "      <td>0</td>\n",
       "      <td>0</td>\n",
       "      <td>0</td>\n",
       "      <td>0</td>\n",
       "      <td>0</td>\n",
       "      <td>0</td>\n",
       "      <td>0</td>\n",
       "      <td>1</td>\n",
       "    </tr>\n",
       "    <tr>\n",
       "      <th>...</th>\n",
       "      <td>...</td>\n",
       "      <td>...</td>\n",
       "      <td>...</td>\n",
       "      <td>...</td>\n",
       "      <td>...</td>\n",
       "      <td>...</td>\n",
       "      <td>...</td>\n",
       "      <td>...</td>\n",
       "      <td>...</td>\n",
       "      <td>...</td>\n",
       "      <td>...</td>\n",
       "      <td>...</td>\n",
       "      <td>...</td>\n",
       "      <td>...</td>\n",
       "      <td>...</td>\n",
       "    </tr>\n",
       "    <tr>\n",
       "      <th>5050</th>\n",
       "      <td>2.0</td>\n",
       "      <td>83.0</td>\n",
       "      <td>3213.0</td>\n",
       "      <td>5500.0</td>\n",
       "      <td>1880.0</td>\n",
       "      <td>0.0</td>\n",
       "      <td>0.911511</td>\n",
       "      <td>0</td>\n",
       "      <td>0</td>\n",
       "      <td>0</td>\n",
       "      <td>0</td>\n",
       "      <td>0</td>\n",
       "      <td>0</td>\n",
       "      <td>0</td>\n",
       "      <td>1</td>\n",
       "    </tr>\n",
       "    <tr>\n",
       "      <th>2507</th>\n",
       "      <td>3.0</td>\n",
       "      <td>71.0</td>\n",
       "      <td>4041.0</td>\n",
       "      <td>4640.0</td>\n",
       "      <td>2018.0</td>\n",
       "      <td>0.0</td>\n",
       "      <td>0.960454</td>\n",
       "      <td>0</td>\n",
       "      <td>0</td>\n",
       "      <td>0</td>\n",
       "      <td>0</td>\n",
       "      <td>0</td>\n",
       "      <td>0</td>\n",
       "      <td>0</td>\n",
       "      <td>1</td>\n",
       "    </tr>\n",
       "    <tr>\n",
       "      <th>5378</th>\n",
       "      <td>2.0</td>\n",
       "      <td>66.0</td>\n",
       "      <td>1153.0</td>\n",
       "      <td>0.0</td>\n",
       "      <td>1916.0</td>\n",
       "      <td>0.0</td>\n",
       "      <td>0.906421</td>\n",
       "      <td>0</td>\n",
       "      <td>0</td>\n",
       "      <td>0</td>\n",
       "      <td>0</td>\n",
       "      <td>0</td>\n",
       "      <td>0</td>\n",
       "      <td>0</td>\n",
       "      <td>1</td>\n",
       "    </tr>\n",
       "    <tr>\n",
       "      <th>5308</th>\n",
       "      <td>2.0</td>\n",
       "      <td>61.0</td>\n",
       "      <td>2601.0</td>\n",
       "      <td>4200.0</td>\n",
       "      <td>1929.0</td>\n",
       "      <td>0.0</td>\n",
       "      <td>0.907987</td>\n",
       "      <td>0</td>\n",
       "      <td>0</td>\n",
       "      <td>0</td>\n",
       "      <td>0</td>\n",
       "      <td>0</td>\n",
       "      <td>0</td>\n",
       "      <td>0</td>\n",
       "      <td>1</td>\n",
       "    </tr>\n",
       "    <tr>\n",
       "      <th>6960</th>\n",
       "      <td>1.0</td>\n",
       "      <td>34.0</td>\n",
       "      <td>1636.0</td>\n",
       "      <td>0.0</td>\n",
       "      <td>1929.0</td>\n",
       "      <td>0.0</td>\n",
       "      <td>0.879013</td>\n",
       "      <td>0</td>\n",
       "      <td>0</td>\n",
       "      <td>0</td>\n",
       "      <td>0</td>\n",
       "      <td>0</td>\n",
       "      <td>0</td>\n",
       "      <td>0</td>\n",
       "      <td>1</td>\n",
       "    </tr>\n",
       "  </tbody>\n",
       "</table>\n",
       "<p>698 rows × 15 columns</p>\n",
       "</div>"
      ],
      "text/plain": [
       "      nbr_rooms  living_space    rent  additional  year_built  bi_area  \\\n",
       "6365        2.0          53.0  2337.0      9504.0      1917.0      0.0   \n",
       "1046        3.0          70.0  2293.0     14520.0      1897.0     29.0   \n",
       "5832        2.0          74.0  2940.0         0.0      1882.0      0.0   \n",
       "7877        2.0          56.0  2800.0      3900.0      1947.0      0.0   \n",
       "2195        1.0          23.0   881.0      3600.0      1880.0      0.0   \n",
       "...         ...           ...     ...         ...         ...      ...   \n",
       "5050        2.0          83.0  3213.0      5500.0      1880.0      0.0   \n",
       "2507        3.0          71.0  4041.0      4640.0      2018.0      0.0   \n",
       "5378        2.0          66.0  1153.0         0.0      1916.0      0.0   \n",
       "5308        2.0          61.0  2601.0      4200.0      1929.0      0.0   \n",
       "6960        1.0          34.0  1636.0         0.0      1929.0      0.0   \n",
       "\n",
       "          time  area_gamla_stan  area_gardet  area_kungsholmen  \\\n",
       "6365  0.889585                0            0                 0   \n",
       "1046  0.980031                0            0                 0   \n",
       "5832  0.897807                0            0                 0   \n",
       "7877  0.856304                0            0                 0   \n",
       "2195  0.964370                0            0                 0   \n",
       "...        ...              ...          ...               ...   \n",
       "5050  0.911511                0            0                 0   \n",
       "2507  0.960454                0            0                 0   \n",
       "5378  0.906421                0            0                 0   \n",
       "5308  0.907987                0            0                 0   \n",
       "6960  0.879013                0            0                 0   \n",
       "\n",
       "      area_lilla_essingen  area_ostermalm  area_sodermalm  \\\n",
       "6365                    0               0               0   \n",
       "1046                    0               0               0   \n",
       "5832                    0               0               0   \n",
       "7877                    0               0               0   \n",
       "2195                    0               0               0   \n",
       "...                   ...             ...             ...   \n",
       "5050                    0               0               0   \n",
       "2507                    0               0               0   \n",
       "5378                    0               0               0   \n",
       "5308                    0               0               0   \n",
       "6960                    0               0               0   \n",
       "\n",
       "      area_stora_essingen  area_vasastan  \n",
       "6365                    0              1  \n",
       "1046                    0              1  \n",
       "5832                    0              1  \n",
       "7877                    0              1  \n",
       "2195                    0              1  \n",
       "...                   ...            ...  \n",
       "5050                    0              1  \n",
       "2507                    0              1  \n",
       "5378                    0              1  \n",
       "5308                    0              1  \n",
       "6960                    0              1  \n",
       "\n",
       "[698 rows x 15 columns]"
      ]
     },
     "execution_count": 652,
     "metadata": {},
     "output_type": "execute_result"
    }
   ],
   "source": []
  },
  {
   "cell_type": "markdown",
   "metadata": {},
   "source": [
    "# Modeling With Keras"
   ]
  },
  {
   "cell_type": "code",
   "execution_count": 354,
   "metadata": {},
   "outputs": [
    {
     "name": "stdout",
     "output_type": "stream",
     "text": [
      "Model: \"sequential_7\"\n",
      "_________________________________________________________________\n",
      "Layer (type)                 Output Shape              Param #   \n",
      "=================================================================\n",
      "dense_1 (Dense)              (None, 128)               2048      \n",
      "_________________________________________________________________\n",
      "dense_2 (Dense)              (None, 64)                8256      \n",
      "_________________________________________________________________\n",
      "dense_3 (Dense)              (None, 32)                2080      \n",
      "_________________________________________________________________\n",
      "dense_output (Dense)         (None, 1)                 33        \n",
      "=================================================================\n",
      "Total params: 12,417\n",
      "Trainable params: 12,417\n",
      "Non-trainable params: 0\n",
      "_________________________________________________________________\n"
     ]
    }
   ],
   "source": [
    "from keras.models import Sequential\n",
    "from keras.layers import Dense\n",
    "(_, input_shape) = X_train.shape\n",
    "model = Sequential()\n",
    "model.add(Dense(128, input_shape=(input_shape, ), activation='relu', name='dense_1'))\n",
    "model.add(Dense(64, activation='relu', name='dense_2'))\n",
    "model.add(Dense(32, activation='relu', name='dense_3'))\n",
    "model.add(Dense(1, activation='linear', name='dense_output'))\n",
    "model.compile(optimizer='adam', loss='mse', metrics=['mae'])\n",
    "model.summary()"
   ]
  },
  {
   "cell_type": "code",
   "execution_count": 355,
   "metadata": {},
   "outputs": [
    {
     "name": "stdout",
     "output_type": "stream",
     "text": [
      "Train on 8470 samples, validate on 942 samples\n",
      "Epoch 1/100\n",
      "8470/8470 [==============================] - 1s 108us/step - loss: 11709912562470.1426 - mae: 2302880.2500 - val_loss: 5260607274277.5029 - val_mae: 1564566.0000\n",
      "Epoch 2/100\n",
      "8470/8470 [==============================] - 1s 94us/step - loss: 4999926585869.6611 - mae: 1466198.0000 - val_loss: 4973134222225.1211 - val_mae: 1410269.6250\n",
      "Epoch 3/100\n",
      "8470/8470 [==============================] - 1s 112us/step - loss: 4856447718545.3193 - mae: 1439570.8750 - val_loss: 5365046484939.8213 - val_mae: 1454719.8750\n",
      "Epoch 4/100\n",
      "8470/8470 [==============================] - 1s 117us/step - loss: 4771656698299.4512 - mae: 1422808.5000 - val_loss: 5432154492380.1270 - val_mae: 1439299.1250\n",
      "Epoch 5/100\n",
      "8470/8470 [==============================] - 1s 93us/step - loss: 4686515180894.3604 - mae: 1412594.3750 - val_loss: 5836646265066.8027 - val_mae: 1446390.8750\n",
      "Epoch 6/100\n",
      "8470/8470 [==============================] - 1s 95us/step - loss: 4609887319392.2939 - mae: 1401126.3750 - val_loss: 5671149448198.5225 - val_mae: 1378449.3750\n",
      "Epoch 7/100\n",
      "8470/8470 [==============================] - 1s 112us/step - loss: 4525854934860.5889 - mae: 1389634.3750 - val_loss: 5807831878297.2734 - val_mae: 1360721.1250\n",
      "Epoch 8/100\n",
      "8470/8470 [==============================] - 1s 110us/step - loss: 4433129136110.5908 - mae: 1367007.6250 - val_loss: 6186160430008.2549 - val_mae: 1423033.6250\n",
      "Epoch 9/100\n",
      "8470/8470 [==============================] - 1s 111us/step - loss: 4311594119956.2500 - mae: 1353943.1250 - val_loss: 5689193358199.0322 - val_mae: 1306971.7500\n",
      "Epoch 10/100\n",
      "8470/8470 [==============================] - 1s 107us/step - loss: 4133996849740.5278 - mae: 1321743.0000 - val_loss: 5682881305528.2549 - val_mae: 1311187.2500\n",
      "Epoch 11/100\n",
      "8470/8470 [==============================] - 1s 110us/step - loss: 3924589661806.6211 - mae: 1284060.8750 - val_loss: 5830897556512.6113 - val_mae: 1259185.3750\n",
      "Epoch 12/100\n",
      "8470/8470 [==============================] - 1s 120us/step - loss: 3614516332681.8232 - mae: 1227133.1250 - val_loss: 6289482196352.8154 - val_mae: 1205810.0000\n",
      "Epoch 13/100\n",
      "8470/8470 [==============================] - 1s 112us/step - loss: 3113693079513.7964 - mae: 1126310.7500 - val_loss: 5539538894221.8604 - val_mae: 1094101.3750\n",
      "Epoch 14/100\n",
      "8470/8470 [==============================] - 1s 107us/step - loss: 2365113177796.2163 - mae: 968494.5625 - val_loss: 4090435602053.7070 - val_mae: 873968.1875\n",
      "Epoch 15/100\n",
      "8470/8470 [==============================] - 1s 111us/step - loss: 1616748442895.0518 - mae: 772906.4375 - val_loss: 3103006723339.4141 - val_mae: 759146.8125\n",
      "Epoch 16/100\n",
      "8470/8470 [==============================] - 1s 95us/step - loss: 1215598832927.9773 - mae: 684341.8125 - val_loss: 2337732459709.1465 - val_mae: 701066.5000\n",
      "Epoch 17/100\n",
      "8470/8470 [==============================] - 1s 95us/step - loss: 1115264525748.4392 - mae: 666525.5625 - val_loss: 1864887566544.7134 - val_mae: 674901.3750\n",
      "Epoch 18/100\n",
      "8470/8470 [==============================] - 1s 98us/step - loss: 1085241041315.7554 - mae: 655539.7500 - val_loss: 1880560039479.4395 - val_mae: 683731.6250\n",
      "Epoch 19/100\n",
      "8470/8470 [==============================] - 1s 98us/step - loss: 1063213691292.9851 - mae: 652023.7500 - val_loss: 2182490443123.7708 - val_mae: 736861.3125\n",
      "Epoch 20/100\n",
      "8470/8470 [==============================] - 1s 97us/step - loss: 1061981699389.9600 - mae: 647324.5625 - val_loss: 1786334570274.2417 - val_mae: 660269.8125\n",
      "Epoch 21/100\n",
      "8470/8470 [==============================] - 1s 133us/step - loss: 1051908133897.9136 - mae: 644761.5000 - val_loss: 2210625691387.1084 - val_mae: 685234.5000\n",
      "Epoch 22/100\n",
      "8470/8470 [==============================] - 1s 98us/step - loss: 1039022172872.3268 - mae: 645826.7500 - val_loss: 1787532639629.8599 - val_mae: 661174.8750\n",
      "Epoch 23/100\n",
      "8470/8470 [==============================] - 1s 94us/step - loss: 1033356901564.3580 - mae: 635728.3750 - val_loss: 2121502292137.5796 - val_mae: 689120.8125\n",
      "Epoch 24/100\n",
      "8470/8470 [==============================] - 1s 98us/step - loss: 1033399305650.5049 - mae: 636031.0000 - val_loss: 1948445673928.5605 - val_mae: 656993.6250\n",
      "Epoch 25/100\n",
      "8470/8470 [==============================] - 1s 101us/step - loss: 1035824825422.5833 - mae: 643064.0625 - val_loss: 2021699871398.3184 - val_mae: 664220.2500\n",
      "Epoch 26/100\n",
      "8470/8470 [==============================] - 1s 98us/step - loss: 1030898027036.1691 - mae: 639134.0625 - val_loss: 1806518354754.8535 - val_mae: 788715.0625\n",
      "Epoch 27/100\n",
      "8470/8470 [==============================] - 1s 100us/step - loss: 1015954001236.2050 - mae: 635214.7500 - val_loss: 1870385564000.2039 - val_mae: 650551.3750\n",
      "Epoch 28/100\n",
      "8470/8470 [==============================] - 1s 97us/step - loss: 1036830591674.7864 - mae: 638660.5625 - val_loss: 1726239348644.6880 - val_mae: 659815.8125\n",
      "Epoch 29/100\n",
      "8470/8470 [==============================] - 1s 95us/step - loss: 1005616857146.0306 - mae: 630862.5625 - val_loss: 1843051375413.8091 - val_mae: 661729.0000\n",
      "Epoch 30/100\n",
      "8470/8470 [==============================] - 1s 98us/step - loss: 1013419440551.1405 - mae: 627895.3125 - val_loss: 1736656865840.9172 - val_mae: 648275.1875\n",
      "Epoch 31/100\n",
      "8470/8470 [==============================] - 1s 97us/step - loss: 1005068496927.9169 - mae: 623053.7500 - val_loss: 1690565104737.8345 - val_mae: 651466.5000\n",
      "Epoch 32/100\n",
      "8470/8470 [==============================] - 1s 108us/step - loss: 995890955860.9908 - mae: 621748.9375 - val_loss: 1954600269576.1528 - val_mae: 651420.0000\n",
      "Epoch 33/100\n",
      "8470/8470 [==============================] - 1s 110us/step - loss: 1001587426326.4869 - mae: 627092.7500 - val_loss: 1954093249999.0828 - val_mae: 649140.8750\n",
      "Epoch 34/100\n",
      "8470/8470 [==============================] - 1s 118us/step - loss: 1008394349592.9048 - mae: 629042.0625 - val_loss: 2296930915112.7642 - val_mae: 666441.8125\n",
      "Epoch 35/100\n",
      "8470/8470 [==============================] - 1s 164us/step - loss: 1003257466265.8418 - mae: 631639.6250 - val_loss: 1750807001361.9363 - val_mae: 646202.6875\n",
      "Epoch 36/100\n",
      "8470/8470 [==============================] - 1s 119us/step - loss: 996301652087.9301 - mae: 623470.0625 - val_loss: 2239366123702.6240 - val_mae: 667363.9375\n",
      "Epoch 37/100\n",
      "8470/8470 [==============================] - 1s 115us/step - loss: 1003024037723.0961 - mae: 623863.1250 - val_loss: 2710179613232.9170 - val_mae: 743922.8125\n",
      "Epoch 38/100\n",
      "8470/8470 [==============================] - 1s 103us/step - loss: 982393577088.9974 - mae: 622058.8750 - val_loss: 1845960637524.7898 - val_mae: 647358.8750\n",
      "Epoch 39/100\n",
      "8470/8470 [==============================] - 1s 98us/step - loss: 987887223801.4716 - mae: 623160.6875 - val_loss: 1901397954742.6243 - val_mae: 663419.7500\n",
      "Epoch 40/100\n",
      "8470/8470 [==============================] - 1s 92us/step - loss: 988270122914.6674 - mae: 619333.5625 - val_loss: 1934574657588.1782 - val_mae: 654607.5625\n",
      "Epoch 41/100\n",
      "8470/8470 [==============================] - 1s 96us/step - loss: 997465290115.1130 - mae: 627392.3125 - val_loss: 1992362016141.8599 - val_mae: 652940.6250\n",
      "Epoch 42/100\n",
      "8470/8470 [==============================] - 1s 93us/step - loss: 991031642692.7905 - mae: 620830.6875 - val_loss: 1667137904587.8218 - val_mae: 673939.9375\n",
      "Epoch 43/100\n",
      "8470/8470 [==============================] - 1s 96us/step - loss: 982324839618.6445 - mae: 618242.7500 - val_loss: 1866746298576.7134 - val_mae: 647878.5625\n",
      "Epoch 44/100\n",
      "8470/8470 [==============================] - 1s 93us/step - loss: 986734176163.6344 - mae: 619846.2500 - val_loss: 1705905212370.3440 - val_mae: 638168.2500\n",
      "Epoch 45/100\n",
      "8470/8470 [==============================] - 1s 93us/step - loss: 989410250331.2775 - mae: 620830.5000 - val_loss: 1571310042301.1465 - val_mae: 645044.1250\n",
      "Epoch 46/100\n",
      "8470/8470 [==============================] - 1s 92us/step - loss: 980242956349.8994 - mae: 619641.5625 - val_loss: 1798755531443.3628 - val_mae: 636287.5000\n",
      "Epoch 47/100\n",
      "8470/8470 [==============================] - 1s 96us/step - loss: 972709621227.0848 - mae: 617998.5625 - val_loss: 1823868212843.6179 - val_mae: 647717.9375\n",
      "Epoch 48/100\n"
     ]
    },
    {
     "name": "stdout",
     "output_type": "stream",
     "text": [
      "8470/8470 [==============================] - 1s 97us/step - loss: 970059761538.7505 - mae: 612192.0000 - val_loss: 1920203688496.9172 - val_mae: 642570.9375\n",
      "Epoch 49/100\n",
      "8470/8470 [==============================] - 1s 95us/step - loss: 991526319189.3535 - mae: 615829.0000 - val_loss: 1891050014237.3503 - val_mae: 668321.8125\n",
      "Epoch 50/100\n",
      "8470/8470 [==============================] - 1s 98us/step - loss: 979940476017.4016 - mae: 613592.4375 - val_loss: 1599940483398.1147 - val_mae: 629607.0625\n",
      "Epoch 51/100\n",
      "8470/8470 [==============================] - 1s 100us/step - loss: 974258707226.5369 - mae: 610206.9375 - val_loss: 1964364176520.9683 - val_mae: 648999.3125\n",
      "Epoch 52/100\n",
      "8470/8470 [==============================] - 1s 112us/step - loss: 977180832331.0773 - mae: 614117.0625 - val_loss: 2069738536020.7898 - val_mae: 677763.5625\n",
      "Epoch 53/100\n",
      "8470/8470 [==============================] - 1s 102us/step - loss: 974294433455.4219 - mae: 616200.6875 - val_loss: 1651636239862.2166 - val_mae: 643251.8125\n",
      "Epoch 54/100\n",
      "8470/8470 [==============================] - 1s 96us/step - loss: 968133808709.2742 - mae: 609968.6875 - val_loss: 2132449641700.2805 - val_mae: 643590.0625\n",
      "Epoch 55/100\n",
      "8470/8470 [==============================] - 1s 95us/step - loss: 973531241581.0493 - mae: 613139.1875 - val_loss: 1923199737908.1782 - val_mae: 630873.5000\n",
      "Epoch 56/100\n",
      "8470/8470 [==============================] - 1s 93us/step - loss: 963612808027.8214 - mae: 607618.7500 - val_loss: 1685693852156.7388 - val_mae: 628557.9375\n",
      "Epoch 57/100\n",
      "8470/8470 [==============================] - 1s 93us/step - loss: 970714005105.5226 - mae: 610459.3750 - val_loss: 1754972549772.2292 - val_mae: 633633.0625\n",
      "Epoch 58/100\n",
      "8470/8470 [==============================] - 1s 94us/step - loss: 960414860246.6532 - mae: 616403.9375 - val_loss: 1969398689400.6626 - val_mae: 682817.0000\n",
      "Epoch 59/100\n",
      "8470/8470 [==============================] - 1s 97us/step - loss: 960614600399.3387 - mae: 609504.6250 - val_loss: 1813923722285.6558 - val_mae: 632897.0625\n",
      "Epoch 60/100\n",
      "8470/8470 [==============================] - 1s 98us/step - loss: 967997850551.7034 - mae: 615668.1875 - val_loss: 1591783307537.9363 - val_mae: 625200.2500\n",
      "Epoch 61/100\n",
      "8470/8470 [==============================] - 1s 97us/step - loss: 972739581380.8812 - mae: 617773.1250 - val_loss: 1943355320411.3120 - val_mae: 688202.1875\n",
      "Epoch 62/100\n",
      "8470/8470 [==============================] - 1s 95us/step - loss: 959287198895.3010 - mae: 606602.8125 - val_loss: 1691133757479.1338 - val_mae: 659594.3750\n",
      "Epoch 63/100\n",
      "8470/8470 [==============================] - 1s 94us/step - loss: 959852460172.7244 - mae: 608780.1250 - val_loss: 1635184883151.0828 - val_mae: 675084.5625\n",
      "Epoch 64/100\n",
      "8470/8470 [==============================] - 1s 105us/step - loss: 973262103698.2858 - mae: 612534.2500 - val_loss: 1750348943125.1975 - val_mae: 654393.5000\n",
      "Epoch 65/100\n",
      "8470/8470 [==============================] - 1s 106us/step - loss: 950640780124.7887 - mae: 603171.3125 - val_loss: 1717762175210.8025 - val_mae: 624000.3125\n",
      "Epoch 66/100\n",
      "8470/8470 [==============================] - 1s 147us/step - loss: 944898011666.9810 - mae: 604343.0625 - val_loss: 1801743221675.2102 - val_mae: 626770.9375\n",
      "Epoch 67/100\n",
      "8470/8470 [==============================] - 1s 109us/step - loss: 955853764928.6196 - mae: 606270.7500 - val_loss: 1737171959703.6433 - val_mae: 630703.6875\n",
      "Epoch 68/100\n",
      "8470/8470 [==============================] - 1s 100us/step - loss: 953911552327.3899 - mae: 607120.3125 - val_loss: 1628338491261.5542 - val_mae: 624377.8125\n",
      "Epoch 69/100\n",
      "8470/8470 [==============================] - 1s 162us/step - loss: 954686190826.2990 - mae: 605561.5000 - val_loss: 1611731329284.8916 - val_mae: 638425.7500\n",
      "Epoch 70/100\n",
      "8470/8470 [==============================] - 1s 174us/step - loss: 942002376575.3654 - mae: 603523.2500 - val_loss: 2040856104933.9109 - val_mae: 664078.5625\n",
      "Epoch 71/100\n",
      "8470/8470 [==============================] - 2s 181us/step - loss: 956529221672.6215 - mae: 606829.6250 - val_loss: 1844122734565.9109 - val_mae: 629444.3750\n",
      "Epoch 72/100\n",
      "8470/8470 [==============================] - 1s 157us/step - loss: 959521585534.5190 - mae: 608720.4375 - val_loss: 2078585822762.3950 - val_mae: 684762.3125\n",
      "Epoch 73/100\n",
      "8470/8470 [==============================] - 1s 166us/step - loss: 949356006713.1239 - mae: 606636.9375 - val_loss: 1735042122041.0701 - val_mae: 620217.6250\n",
      "Epoch 74/100\n",
      "8470/8470 [==============================] - 1s 175us/step - loss: 952090767684.0048 - mae: 605650.6875 - val_loss: 1724234836268.0254 - val_mae: 662653.3125\n",
      "Epoch 75/100\n",
      "8470/8470 [==============================] - 1s 164us/step - loss: 944803411520.6801 - mae: 601235.1250 - val_loss: 2176217398774.2163 - val_mae: 663293.9375\n",
      "Epoch 76/100\n",
      "8470/8470 [==============================] - 1s 160us/step - loss: 945117246673.1523 - mae: 604980.2500 - val_loss: 1587550645776.3057 - val_mae: 635028.0625\n",
      "Epoch 77/100\n",
      "8470/8470 [==============================] - 1s 164us/step - loss: 937478078966.9326 - mae: 600961.7500 - val_loss: 1679176647803.9236 - val_mae: 642427.8750\n",
      "Epoch 78/100\n",
      "8470/8470 [==============================] - 1s 172us/step - loss: 941357831040.5743 - mae: 601123.7500 - val_loss: 1648255283226.0891 - val_mae: 620715.4375\n",
      "Epoch 79/100\n",
      "8470/8470 [==============================] - 1s 176us/step - loss: 960200056328.1001 - mae: 609210.5625 - val_loss: 1671051701150.1655 - val_mae: 628835.4375\n",
      "Epoch 80/100\n",
      "8470/8470 [==============================] - 2s 179us/step - loss: 924896037516.3618 - mae: 597641.5000 - val_loss: 1884277680949.8091 - val_mae: 693374.5000\n",
      "Epoch 81/100\n",
      "8470/8470 [==============================] - 1s 119us/step - loss: 944592280509.0228 - mae: 602591.9375 - val_loss: 1621759024578.0383 - val_mae: 626167.4375\n",
      "Epoch 82/100\n",
      "8470/8470 [==============================] - 1s 105us/step - loss: 943110301512.7197 - mae: 601632.0625 - val_loss: 1972278687078.7261 - val_mae: 645697.8750\n",
      "Epoch 83/100\n",
      "8470/8470 [==============================] - 1s 138us/step - loss: 946526512924.2295 - mae: 602861.2500 - val_loss: 1809158370558.3696 - val_mae: 621248.6250\n",
      "Epoch 84/100\n",
      "8470/8470 [==============================] - 1s 99us/step - loss: 923993159559.5863 - mae: 600282.6875 - val_loss: 1799030887939.2612 - val_mae: 620637.8125\n",
      "Epoch 85/100\n",
      "8470/8470 [==============================] - 1s 97us/step - loss: 933813739881.7246 - mae: 594875.3750 - val_loss: 2860315964774.7261 - val_mae: 920925.0625\n",
      "Epoch 86/100\n",
      "8470/8470 [==============================] - 1s 97us/step - loss: 957110990982.9214 - mae: 604847.8750 - val_loss: 1756714250683.5159 - val_mae: 642674.7500\n",
      "Epoch 87/100\n",
      "8470/8470 [==============================] - 1s 100us/step - loss: 926539823612.2522 - mae: 596574.0000 - val_loss: 1882957339158.8281 - val_mae: 618155.8750\n",
      "Epoch 88/100\n",
      "8470/8470 [==============================] - 1s 94us/step - loss: 931025565608.4705 - mae: 597154.0000 - val_loss: 1684017039399.1338 - val_mae: 616495.4375\n",
      "Epoch 89/100\n",
      "8470/8470 [==============================] - 1s 92us/step - loss: 936881360423.0498 - mae: 599487.1250 - val_loss: 1683282769150.3694 - val_mae: 623385.0625\n",
      "Epoch 90/100\n",
      "8470/8470 [==============================] - 1s 94us/step - loss: 932528140894.4208 - mae: 594892.6875 - val_loss: 1541614810470.7261 - val_mae: 614093.0625\n",
      "Epoch 91/100\n",
      "8470/8470 [==============================] - 1s 93us/step - loss: 942405439972.5564 - mae: 599262.5000 - val_loss: 1655525106342.3184 - val_mae: 647096.8125\n",
      "Epoch 92/100\n",
      "8470/8470 [==============================] - 1s 94us/step - loss: 927813184703.2595 - mae: 598023.9375 - val_loss: 1865809740923.9233 - val_mae: 657643.3750\n",
      "Epoch 93/100\n",
      "8470/8470 [==============================] - 1s 95us/step - loss: 927866148319.9623 - mae: 594673.9375 - val_loss: 1545317278061.2483 - val_mae: 619045.1250\n",
      "Epoch 94/100\n",
      "8470/8470 [==============================] - 1s 93us/step - loss: 936293279767.6959 - mae: 602291.0625 - val_loss: 1808500301980.5347 - val_mae: 665997.0625\n",
      "Epoch 95/100\n",
      "8470/8470 [==============================] - 1s 94us/step - loss: 921032959623.2841 - mae: 594924.2500 - val_loss: 2204930286350.6753 - val_mae: 732758.8125\n",
      "Epoch 96/100\n"
     ]
    },
    {
     "name": "stdout",
     "output_type": "stream",
     "text": [
      "8470/8470 [==============================] - 1s 92us/step - loss: 930764917245.2194 - mae: 596593.3750 - val_loss: 1702184639103.1848 - val_mae: 626131.0625\n",
      "Epoch 97/100\n",
      "8470/8470 [==============================] - 1s 94us/step - loss: 939741013188.5790 - mae: 602893.9375 - val_loss: 1573799482883.2612 - val_mae: 613627.3125\n",
      "Epoch 98/100\n",
      "8470/8470 [==============================] - 1s 92us/step - loss: 915078349587.2831 - mae: 595217.5000 - val_loss: 1653752496962.8535 - val_mae: 616862.1875\n",
      "Epoch 99/100\n",
      "8470/8470 [==============================] - 1s 97us/step - loss: 923701219131.6628 - mae: 593750.1250 - val_loss: 1606532919322.0891 - val_mae: 622191.5000\n",
      "Epoch 100/100\n",
      "8470/8470 [==============================] - 1s 95us/step - loss: 917404260181.2931 - mae: 586584.9375 - val_loss: 1969205741815.8472 - val_mae: 620587.3750\n"
     ]
    }
   ],
   "source": [
    "history = model.fit(X_train, y_train, \n",
    "          epochs=100,\n",
    "          validation_split=0.1,\n",
    "          batch_size=12)"
   ]
  },
  {
   "cell_type": "code",
   "execution_count": 356,
   "metadata": {},
   "outputs": [
    {
     "data": {
      "image/png": "[encoded data removed]",
      "text/plain": [
       "<Figure size 432x288 with 1 Axes>"
      ]
     },
     "metadata": {
      "needs_background": "light"
     },
     "output_type": "display_data"
    }
   ],
   "source": [
    "loss = history.history['loss']\n",
    "val_loss = history.history['val_loss']\n",
    "plt.plot(np.arange(len(loss)), loss)\n",
    "plt.plot(np.arange(len(loss)), val_loss)\n",
    "plt.show()"
   ]
  },
  {
   "cell_type": "code",
   "execution_count": 357,
   "metadata": {},
   "outputs": [
    {
     "data": {
      "image/png": "[encoded data removed]",
      "text/plain": [
       "<Figure size 432x288 with 1 Axes>"
      ]
     },
     "metadata": {
      "needs_background": "light"
     },
     "output_type": "display_data"
    }
   ],
   "source": [
    "mae = history.history['mae']\n",
    "val_mae = history.history['val_mae']\n",
    "plt.plot(np.arange(len(mae)), mae)\n",
    "plt.plot(np.arange(len(mae)), val_mae)\n",
    "plt.show()"
   ]
  },
  {
   "cell_type": "code",
   "execution_count": null,
   "metadata": {},
   "outputs": [],
   "source": [
    "# Not as good as Random Forest!"
   ]
  },
  {
   "cell_type": "markdown",
   "metadata": {},
   "source": [
    "# Hyper Parameter Tune Random Forest"
   ]
  },
  {
   "cell_type": "code",
   "execution_count": 417,
   "metadata": {},
   "outputs": [
    {
     "name": "stdout",
     "output_type": "stream",
     "text": [
      "{'n_estimators': [200, 400, 600, 800, 1000, 1200, 1400, 1600, 1800, 2000], 'max_features': ['auto', 'sqrt'], 'max_depth': [10, 20, 30, 40, 50, 60, 70, 80, 90, 100, 110, None], 'min_samples_split': [2, 5, 10], 'min_samples_leaf': [1, 2, 4], 'bootstrap': [True, False]}\n"
     ]
    }
   ],
   "source": [
    "from sklearn.model_selection import RandomizedSearchCV\n",
    "# Number of trees in random forest\n",
    "n_estimators = [int(x) for x in np.linspace(start = 200, stop = 2000, num = 10)]\n",
    "# Number of features to consider at every split\n",
    "max_features = ['auto', 'sqrt']\n",
    "# Maximum number of levels in tree\n",
    "max_depth = [int(x) for x in np.linspace(10, 110, num = 11)]\n",
    "max_depth.append(None)\n",
    "# Minimum number of samples required to split a node\n",
    "min_samples_split = [2, 5, 10]\n",
    "# Minimum number of samples required at each leaf node\n",
    "min_samples_leaf = [1, 2, 4]\n",
    "# Method of selecting samples for training each tree\n",
    "bootstrap = [True, False]\n",
    "# Create the random grid\n",
    "random_grid = {'n_estimators': n_estimators,\n",
    "               'max_features': max_features,\n",
    "               'max_depth': max_depth,\n",
    "               'min_samples_split': min_samples_split,\n",
    "               'min_samples_leaf': min_samples_leaf,\n",
    "               'bootstrap': bootstrap}\n",
    "print(random_grid)"
   ]
  },
  {
   "cell_type": "code",
   "execution_count": 423,
   "metadata": {},
   "outputs": [
    {
     "name": "stdout",
     "output_type": "stream",
     "text": [
      "Fitting 3 folds for each of 20 candidates, totalling 60 fits\n"
     ]
    },
    {
     "name": "stderr",
     "output_type": "stream",
     "text": [
      "[Parallel(n_jobs=-1)]: Using backend LokyBackend with 4 concurrent workers.\n",
      "[Parallel(n_jobs=-1)]: Done  33 tasks      | elapsed:  6.5min\n",
      "[Parallel(n_jobs=-1)]: Done  60 out of  60 | elapsed: 11.1min finished\n"
     ]
    },
    {
     "data": {
      "text/plain": [
       "RandomizedSearchCV(cv=3, error_score=nan,\n",
       "                   estimator=RandomForestRegressor(bootstrap=True,\n",
       "                                                   ccp_alpha=0.0,\n",
       "                                                   criterion='mse',\n",
       "                                                   max_depth=None,\n",
       "                                                   max_features='auto',\n",
       "                                                   max_leaf_nodes=None,\n",
       "                                                   max_samples=None,\n",
       "                                                   min_impurity_decrease=0.0,\n",
       "                                                   min_impurity_split=None,\n",
       "                                                   min_samples_leaf=1,\n",
       "                                                   min_samples_split=2,\n",
       "                                                   min_weight_fraction_leaf=0.0,\n",
       "                                                   n_estimators=100,\n",
       "                                                   n_jobs=None, oob_score=Fals...\n",
       "                   param_distributions={'bootstrap': [True, False],\n",
       "                                        'max_depth': [10, 20, 30, 40, 50, 60,\n",
       "                                                      70, 80, 90, 100, 110,\n",
       "                                                      None],\n",
       "                                        'max_features': ['auto', 'sqrt'],\n",
       "                                        'min_samples_leaf': [1, 2, 4],\n",
       "                                        'min_samples_split': [2, 5, 10],\n",
       "                                        'n_estimators': [200, 400, 600, 800,\n",
       "                                                         1000, 1200, 1400, 1600,\n",
       "                                                         1800, 2000]},\n",
       "                   pre_dispatch='2*n_jobs', random_state=42, refit=True,\n",
       "                   return_train_score=False, scoring='neg_mean_absolute_error',\n",
       "                   verbose=2)"
      ]
     },
     "execution_count": 423,
     "metadata": {},
     "output_type": "execute_result"
    }
   ],
   "source": [
    "# Use the random grid to search for best hyperparameters\n",
    "from sklearn.metrics import make_scorer\n",
    "# First create the base model to tune\n",
    "rf = RandomForestRegressor()\n",
    "# Random search of parameters, using 3 fold cross validation, \n",
    "# search across 100 different combinations, and use all available cores\n",
    "rf_random = RandomizedSearchCV(estimator = rf, \n",
    "                               param_distributions = random_grid, \n",
    "                               n_iter = 20, \n",
    "                               cv = 3, \n",
    "                               verbose=2, \n",
    "                               random_state=42,\n",
    "                               scoring='neg_mean_absolute_error',\n",
    "                               n_jobs = -1)\n",
    "# Fit the random search model\n",
    "rf_random.fit(X_train, y_train)"
   ]
  },
  {
   "cell_type": "code",
   "execution_count": 424,
   "metadata": {},
   "outputs": [],
   "source": [
    "tuned_model = rf_random.best_estimator_"
   ]
  },
  {
   "cell_type": "code",
   "execution_count": 425,
   "metadata": {},
   "outputs": [],
   "source": [
    "scoring = {'mse' : mean_squared_error, \n",
    "           'mae' : mean_absolute_error, \n",
    "           'evs' : explained_variance_score, \n",
    "           'r2' : r2_score}\n",
    "y_pred = tuned_model.predict(X_test)\n",
    "model_scores = {}\n",
    "for m in scoring.keys():\n",
    "    model_scores[m] = scoring[m](y_true, y_pred)"
   ]
  },
  {
   "cell_type": "code",
   "execution_count": 428,
   "metadata": {},
   "outputs": [
    {
     "data": {
      "text/plain": [
       "{'n_estimators': 800,\n",
       " 'min_samples_split': 2,\n",
       " 'min_samples_leaf': 1,\n",
       " 'max_features': 'sqrt',\n",
       " 'max_depth': 20,\n",
       " 'bootstrap': False}"
      ]
     },
     "execution_count": 428,
     "metadata": {},
     "output_type": "execute_result"
    }
   ],
   "source": [
    "rf_random.best_params_"
   ]
  },
  {
   "cell_type": "code",
   "execution_count": null,
   "metadata": {},
   "outputs": [],
   "source": []
  }
 ],
 "metadata": {
  "kernelspec": {
   "display_name": "Python 3",
   "language": "python",
   "name": "python3"
  },
  "language_info": {
   "codemirror_mode": {
    "name": "ipython",
    "version": 3
   },
   "file_extension": ".py",
   "mimetype": "text/x-python",
   "name": "python",
   "nbconvert_exporter": "python",
   "pygments_lexer": "ipython3",
   "version": "3.7.5"
  }
 },
 "nbformat": 4,
 "nbformat_minor": 2
}
