{
 "cells": [
  {
   "cell_type": "markdown",
   "metadata": {},
   "source": [
    "# Webscraper for https://www.hemnet.se"
   ]
  },
  {
   "cell_type": "code",
   "execution_count": 3,
   "metadata": {},
   "outputs": [],
   "source": [
    "import requests\n",
    "from bs4 import BeautifulSoup\n",
    "import pandas as pd"
   ]
  },
  {
   "cell_type": "code",
   "execution_count": 4,
   "metadata": {},
   "outputs": [],
   "source": [
    "def get_nbr_pages(url):\n",
    "    result = requests.get(url)\n",
    "    src = result.content\n",
    "    soup = BeautifulSoup(src)\n",
    "    return int([a_tag.contents[0] for a_tag in soup.find_all('a', class_=\"button\")][-2])"
   ]
  },
  {
   "cell_type": "code",
   "execution_count": 5,
   "metadata": {},
   "outputs": [],
   "source": [
    "def get_next_url(url):\n",
    "    result = requests.get(url)\n",
    "    src = result.content\n",
    "    soup = BeautifulSoup(src)\n",
    "    next_url = soup.find('a', class_=\"next_page button button--primary\")\n",
    "    if next_url is not None:\n",
    "        next_url = 'https://hemnet.se/' + next_url.attrs['href']\n",
    "    return next_url"
   ]
  },
  {
   "cell_type": "code",
   "execution_count": 6,
   "metadata": {},
   "outputs": [],
   "source": [
    "def get_columns(url):\n",
    "    \n",
    "    result = requests.get(url)\n",
    "    src = result.content\n",
    "    soup = BeautifulSoup(src)\n",
    "\n",
    "    columns = []\n",
    "    for a in soup.find_all('dt', text=lambda s: s != \"Prisutveckling\"):\n",
    "        columns.append(a.contents[0])\n",
    "    columns.append('Slutpris')\n",
    "    columns.insert(0, 'Datum')\n",
    "    columns.insert(1, 'Område')\n",
    "    return columns"
   ]
  },
  {
   "cell_type": "code",
   "execution_count": 9,
   "metadata": {},
   "outputs": [],
   "source": [
    "def scrape(urls):\n",
    "    \n",
    "    all_values = []\n",
    "    for url in urls:\n",
    "        values = []\n",
    "        result = requests.get(url)\n",
    "        src = result.content\n",
    "        soup = BeautifulSoup(src)\n",
    "        for a in soup.find_all('dd'):\n",
    "            value = a.contents[0].strip(' kr').strip(' kr/m²').strip(' rum')\\\n",
    "                                 .strip(' kr/mån').strip(' kr/å').strip('\\n').replace(u\"\\xa0\", \"\").replace(',', '.')\n",
    "\n",
    "            if 'Brf' not in value and value != '':\n",
    "                values.append(value)\n",
    "                \n",
    "        # Gets the closing price \n",
    "        closing_price = soup.find_all('span', class_=\"sold-property__price-value\")\n",
    "        closing_price = closing_price[0].contents[0].strip(' kr').replace(u\"\\xa0\", \"\")\n",
    "        values.append(closing_price)\n",
    "                \n",
    "        # Gets the time of sale\n",
    "        time = soup.find('time').contents[0].strip('\\n').strip('\\n    ')\n",
    "        values.insert(0, time)\n",
    "        \n",
    "        # Gets the location of object\n",
    "        area = soup.find(\"p\").find(\"span\") \\\n",
    "            .next_sibling \\\n",
    "            .strip(\"Stockholms kommun\\n\\n    - Såld den\\n    \") \\\n",
    "            .strip(\"Bostadsrättslägenhet - \\n\\n\") \\\n",
    "            .strip(\"Andel i bostadsförening -\\n\\n\") \\\n",
    "            .strip(',')\n",
    "        values.insert(1, area)\n",
    "        \n",
    "        all_values.append(values)\n",
    "        \n",
    "    return all_values"
   ]
  },
  {
   "cell_type": "code",
   "execution_count": 11,
   "metadata": {},
   "outputs": [],
   "source": [
    "def get_search_urls(url):\n",
    "    result = requests.get(url)\n",
    "    src = result.content\n",
    "    soup = BeautifulSoup(src)\n",
    "\n",
    "    urls = []\n",
    "    for li_tag in soup.find_all('li'):\n",
    "        for div_tag in li_tag.find_all('div'):\n",
    "            a_tag = div_tag.find('a')\n",
    "            if a_tag != None:\n",
    "                urls.append(a_tag.attrs['href'])\n",
    "\n",
    "    urls = [x for x in urls if x.startswith(\"https://www.hemnet.se/\")]\n",
    "    return urls"
   ]
  },
  {
   "cell_type": "code",
   "execution_count": 41,
   "metadata": {},
   "outputs": [],
   "source": [
    "search = 'https://www.hemnet.se/salda/bostader?item_types%5B%5D=bostadsratt&location_ids%5B%5D=473362&location_ids%5B%5D=898472&location_ids%5B%5D=473448&location_ids%5B%5D=925970&location_ids%5B%5D=925969&location_ids%5B%5D=925968&page=1&sold_age=all'\n",
    "\n",
    "columns = [\n",
    "        'Datum',\n",
    "        'Område',\n",
    "        'Pris per kvadratmeter',\n",
    "        'Begärt pris',\n",
    "        'Antal rum',\n",
    "        'Boarea',\n",
    "        'Avgift/månad',\n",
    "        'Driftskostnad',\n",
    "        'Byggår',\n",
    "        'Slutpris'\n",
    "        ]"
   ]
  },
  {
   "cell_type": "code",
   "execution_count": 42,
   "metadata": {},
   "outputs": [
    {
     "name": "stdout",
     "output_type": "stream",
     "text": [
      "Scraping page 0\n",
      "Scraping page 1\n",
      "Scraping page 2\n",
      "Scraping page 3\n",
      "Scraping page 4\n",
      "Scraping page 5\n",
      "Scraping page 6\n",
      "Scraping page 7\n",
      "Scraping page 8\n",
      "Scraping page 9\n",
      "Scraping page 10\n"
     ]
    }
   ],
   "source": [
    "current_search_page = search\n",
    "i = 0\n",
    "first = True\n",
    "while get_next_url(current_search_page) is not None:\n",
    "    \n",
    "    if i > 10:\n",
    "        break\n",
    "    \n",
    "    current_search_page = get_next_url(current_search_page)\n",
    "    \n",
    "    urls = get_search_urls(current_search_page)\n",
    "    \n",
    "    print(\"Scraping page\", i)\n",
    "    temp = scrape(urls)\n",
    "    temp = pd.DataFrame(temp)\n",
    "    \n",
    "    if first != False:\n",
    "        df = temp\n",
    "        first = False\n",
    "    \n",
    "    df = pd.concat([df, temp])\n",
    "    i += 1\n",
    "    "
   ]
  },
  {
   "cell_type": "code",
   "execution_count": 46,
   "metadata": {},
   "outputs": [
    {
     "data": {
      "text/html": [
       "<div>\n",
       "<style scoped>\n",
       "    .dataframe tbody tr th:only-of-type {\n",
       "        vertical-align: middle;\n",
       "    }\n",
       "\n",
       "    .dataframe tbody tr th {\n",
       "        vertical-align: top;\n",
       "    }\n",
       "\n",
       "    .dataframe thead th {\n",
       "        text-align: right;\n",
       "    }\n",
       "</style>\n",
       "<table border=\"1\" class=\"dataframe\">\n",
       "  <thead>\n",
       "    <tr style=\"text-align: right;\">\n",
       "      <th></th>\n",
       "      <th>0</th>\n",
       "      <th>1</th>\n",
       "      <th>2</th>\n",
       "      <th>3</th>\n",
       "      <th>4</th>\n",
       "      <th>5</th>\n",
       "      <th>6</th>\n",
       "      <th>7</th>\n",
       "      <th>8</th>\n",
       "      <th>9</th>\n",
       "      <th>10</th>\n",
       "    </tr>\n",
       "  </thead>\n",
       "  <tbody>\n",
       "    <tr>\n",
       "      <td>0</td>\n",
       "      <td>12 oktober 2019</td>\n",
       "      <td>Kungsholmen</td>\n",
       "      <td>91974</td>\n",
       "      <td>3195000</td>\n",
       "      <td>1.5</td>\n",
       "      <td>38</td>\n",
       "      <td>1223</td>\n",
       "      <td>6100</td>\n",
       "      <td>1927</td>\n",
       "      <td>3495000</td>\n",
       "      <td>NaN</td>\n",
       "    </tr>\n",
       "    <tr>\n",
       "      <td>1</td>\n",
       "      <td>11 oktober 2019</td>\n",
       "      <td>Maria</td>\n",
       "      <td>80714</td>\n",
       "      <td>5450000</td>\n",
       "      <td>2</td>\n",
       "      <td>70</td>\n",
       "      <td>3979</td>\n",
       "      <td>1907</td>\n",
       "      <td>5650000</td>\n",
       "      <td>None</td>\n",
       "      <td>NaN</td>\n",
       "    </tr>\n",
       "    <tr>\n",
       "      <td>2</td>\n",
       "      <td>11 oktober 2019</td>\n",
       "      <td>Katarina</td>\n",
       "      <td>90625</td>\n",
       "      <td>3995000</td>\n",
       "      <td>2</td>\n",
       "      <td>48</td>\n",
       "      <td>1456</td>\n",
       "      <td>4350000</td>\n",
       "      <td>None</td>\n",
       "      <td>None</td>\n",
       "      <td>NaN</td>\n",
       "    </tr>\n",
       "    <tr>\n",
       "      <td>3</td>\n",
       "      <td>11 oktober 2019</td>\n",
       "      <td>Vasastan</td>\n",
       "      <td>88655</td>\n",
       "      <td>9495000</td>\n",
       "      <td>5</td>\n",
       "      <td>119</td>\n",
       "      <td>5134</td>\n",
       "      <td>1926</td>\n",
       "      <td>10550000</td>\n",
       "      <td>None</td>\n",
       "      <td>NaN</td>\n",
       "    </tr>\n",
       "    <tr>\n",
       "      <td>4</td>\n",
       "      <td>11 oktober 2019</td>\n",
       "      <td>Vasastan</td>\n",
       "      <td>87179</td>\n",
       "      <td>6295000</td>\n",
       "      <td>3</td>\n",
       "      <td>78</td>\n",
       "      <td>3108</td>\n",
       "      <td>5000</td>\n",
       "      <td>1979</td>\n",
       "      <td>6800000</td>\n",
       "      <td>NaN</td>\n",
       "    </tr>\n",
       "  </tbody>\n",
       "</table>\n",
       "</div>"
      ],
      "text/plain": [
       "                 0            1      2        3    4    5     6        7  \\\n",
       "0  12 oktober 2019  Kungsholmen  91974  3195000  1.5   38  1223     6100   \n",
       "1  11 oktober 2019        Maria  80714  5450000    2   70  3979     1907   \n",
       "2  11 oktober 2019     Katarina  90625  3995000    2   48  1456  4350000   \n",
       "3  11 oktober 2019     Vasastan  88655  9495000    5  119  5134     1926   \n",
       "4  11 oktober 2019     Vasastan  87179  6295000    3   78  3108     5000   \n",
       "\n",
       "          8        9   10  \n",
       "0      1927  3495000  NaN  \n",
       "1   5650000     None  NaN  \n",
       "2      None     None  NaN  \n",
       "3  10550000     None  NaN  \n",
       "4      1979  6800000  NaN  "
      ]
     },
     "execution_count": 46,
     "metadata": {},
     "output_type": "execute_result"
    }
   ],
   "source": [
    "df.head()"
   ]
  },
  {
   "cell_type": "code",
   "execution_count": 47,
   "metadata": {},
   "outputs": [],
   "source": [
    "df = df.drop(10, axis=1)"
   ]
  },
  {
   "cell_type": "code",
   "execution_count": 48,
   "metadata": {},
   "outputs": [],
   "source": [
    "df.columns = columns"
   ]
  },
  {
   "cell_type": "markdown",
   "metadata": {},
   "source": [
    "### Post-processing"
   ]
  },
  {
   "cell_type": "code",
   "execution_count": 50,
   "metadata": {},
   "outputs": [],
   "source": [
    "temp = df.loc[df.Slutpris.isna()]\n",
    "temp.loc[:, 'Slutpris'] = temp['Byggår'].values\n",
    "temp.loc[:, 'Byggår'] = temp['Driftskostnad'].values\n",
    "temp.loc[:, 'Driftskostnad'] = '0'\n",
    "\n",
    "temp2 = df.loc[~df.Slutpris.isna()]\n",
    "\n",
    "data = pd.concat([temp, temp2])\n",
    "\n",
    "data = data[~data.Slutpris.isna()].reset_index(drop=True)\n",
    "#data = data[data['Begärt pris'] ]\n",
    "\n",
    "# removes buildings without starting price\n",
    "data = data.loc[data['Begärt pris'].astype(float) > 10000]\n",
    "\n",
    "data.loc[:,'Byggår'] = data['Byggår'].map(lambda x: x[:4]).values\n",
    "data = data[data['Avgift/månad'] != '    ']\n",
    "\n",
    "to_float = ['Antal rum', 'Boarea']\n",
    "to_int = ['Pris per kvadratmeter', 'Begärt pris', 'Driftskostnad', 'Avgift/månad', 'Byggår', 'Slutpris']"
   ]
  },
  {
   "cell_type": "code",
   "execution_count": 51,
   "metadata": {},
   "outputs": [],
   "source": [
    "data[to_float] = data[to_float].astype(float)\n",
    "#data[to_int] = data[to_int].astype(int)\n",
    "#return data"
   ]
  },
  {
   "cell_type": "code",
   "execution_count": 52,
   "metadata": {},
   "outputs": [],
   "source": [
    "data.loc[:,'Byggår'] = data['Byggår'].map(lambda x: x[:4]).values"
   ]
  },
  {
   "cell_type": "code",
   "execution_count": 53,
   "metadata": {},
   "outputs": [],
   "source": [
    "for c in to_int:\n",
    "    data[c] = pd.to_numeric(data[c], errors='coerce')"
   ]
  },
  {
   "cell_type": "markdown",
   "metadata": {},
   "source": [
    "The noisiest column seems to be Område, så let's clean it up!"
   ]
  },
  {
   "cell_type": "code",
   "execution_count": 60,
   "metadata": {},
   "outputs": [
    {
     "data": {
      "text/plain": [
       "array(['Maria', 'Vasastan', 'Vasastan - Birkastan',\n",
       "       'Kungsholmen/Hornsbergs Strand', 'Södermalm', 'Hornsbergs strand',\n",
       "       'Kungsholmen', 'Vasastan - Odenplan', 'Östermalm', '',\n",
       "       'Vasastan - Röda Bergen/Torsplan', 'Kungsholmen/Hornsbergs strand',\n",
       "       'Andel i bostadsförening -\\n\\n    Vasastan', 'Atlas Vasastan',\n",
       "       'Södermalm - Tanto', 'Andel i bostadsförening -\\n\\n    Östermalm',\n",
       "       'Kungsholmen, Fredhäll', 'Kungsholmen - Norr Mälarstrand',\n",
       "       'Kungsholmen Nedre', 'Karlaplan', 'Kungsholmen/Fredhäll',\n",
       "       'Södermalm / Hornstull', 'Katarina/Sofia',\n",
       "       'Södermalm - Mariatorget', 'Vasastan - City/Norrmalm',\n",
       "       'Andel i bostadsförening -\\n\\n    Kungsholmen',\n",
       "       'Vasastan - S:t Eriksplan', 'Hornstull',\n",
       "       'Kungsholmen/Hornsberg Strand', 'Vasastan - Röda Bergen',\n",
       "       'Kungsholmen / Kungsholmstorg', 'Kungsholmen Thorildsplan',\n",
       "       'Kungsholmen/City', 'Kungsholmen - Kristinebergs Strand',\n",
       "       'Södermalm - Högalid', 'Kungsholmen - Rådhuset',\n",
       "       'Södermalm Högalid', 'Södermalm Reimersholme',\n",
       "       'Maria/Gamla Stan/Högalid',\n",
       "       'Andel i bostadsförening -\\n\\n    Vasastan - Vasaparken',\n",
       "       'Andel i bostadsförening -\\n\\n    Vasastan Sibirien',\n",
       "       'Östermalm - Vasastan', 'Södermalm Sofia',\n",
       "       'Södermalm Maria Magdalena', 'Södermalm- Katarina', 'Sofia',\n",
       "       'Kungsholmen/Kristineberg', 'Vasastan/Kungsholmen',\n",
       "       'Vasastan - Sankt Eriksplan', 'irkastan Vasastan', 'irkastan',\n",
       "       'Östermalm / Vasastan', 'Vasastan Birkastan', 'Vasastan Östermalm',\n",
       "       'Kungsholmen - Kristineberg', 'Kungsholmen Fridhemsplan',\n",
       "       'Södermalm - Katarina', 'Södermalm - Maria',\n",
       "       'Kungsholmen - Nedre Kungsholmen', 'Södermalm Maria',\n",
       "       'Södermalm Hornstull', 'Kungsholmen - Kronobergsparken',\n",
       "       'Kungsholmen Norr Mälarstrand', 'Kungsholmen - Hornsbergs Strand',\n",
       "       'Vasastan - Vasaparken', 'Hornsbergs Strand',\n",
       "       'Kungsholmen-St Eriksområdet', 'Vasastan / Vasaparken',\n",
       "       'Vasastan City / Norrmalm', 'Vasastan - Atlas',\n",
       "       'Vasastan/Norrmalm', 'Vasastan Rödabergen', 'Vasastan Atlas',\n",
       "       'Kungsholmen Kungsholms Strand', 'Kungsholmen / Fridhemsplan',\n",
       "       'Vasastan Norrmalm Östermalm', 'Vasastan - Sibirien', 'Högalid',\n",
       "       'Stockholm', 'Vasastan - Östermalm', 'Östermalm / Nedre Gärdet',\n",
       "       'Södermalm- Maria', 'Kungsholmen- Kristineberg',\n",
       "       'Kungsholmen - Fredhäll', 'Norrmalm', 'Södermalm Katarina',\n",
       "       'Vasastan - Norrmalm', 'Katarina - Rosenlundshöjden', 'Katarina',\n",
       "       'Södermalm Mosebacke', 'Norrmalm / City', 'Södermalm/Kvarnberget',\n",
       "       'Södermalm - Sofia', 'Kungsholmen / Fredhäll',\n",
       "       'Södermalm- Hornstull', 'Vasastan / Rödabergen',\n",
       "       'Södermalm-Katarina', 'Vasastan/Birkastan', 'City / Norrmalm',\n",
       "       'Andel i bostadsförening -\\n\\n    Vasastan/Odenplan',\n",
       "       'Södermalm - Hornstull', 'Atlas/Vasastan',\n",
       "       'Andel i bostadsförening -\\n\\n    Högalid', 'Östermalm/Vasastan',\n",
       "       'Södermalm/ Mariatorget', 'Norrmalm/Östermalm',\n",
       "       'Kungsholmen - Fridhemsplan', 'Fredhäll', 'Mariaberget',\n",
       "       'Kungsholmen Lindhagen', 'Vasastan/Östermalm',\n",
       "       'Andel i bostadsförening -\\n\\n    Birkastan - Vasastan',\n",
       "       'Kristineberg', 'Vasastan/Odenplan', 'Vasastan/Röda Bergen',\n",
       "       'Kungsholmen - Stadshagen', 'Gamla Stan', 'Norrmalm/City',\n",
       "       'Kungsholmen/Fridhemsplan', 'Kungsholmen/Thorildsplan',\n",
       "       'City - Norrmalm - Vasastan', 'Mariatorget',\n",
       "       'Kungsholmen Fredhäll', 'Kungsholmen/Kungsholmstorg',\n",
       "       'Kungsholmen/Lindhagen', 'Vasastan / Östermalm',\n",
       "       'Södermalm / Högalid', 'Östermalm / Karlaplan', 'Röda Bergen',\n",
       "       'Kungsholmen-Fredhäll', 'Sofia / Södermalm', 'Kunsgholmen',\n",
       "       'Vasastan Odenplan', 'Vasastan - City - Norrmalm',\n",
       "       'Katarina Södermalm', 'Södermalm / Mosebacke',\n",
       "       'Vasastan/ Hagastaden', 'Kungsholmen Hornsbergs Strand',\n",
       "       'Södermalm - Mariaberget', 'Vasastan / Odenplan',\n",
       "       'Vasastan/Sibirien', 'Stadshagen', 'Södermalm/Reimersholme',\n",
       "       'Hagastaden', 'Kungsholmen / St: Eriksområdet', 'Villastan',\n",
       "       'Andel i bostadsförening -\\n\\n    Södermalm - Hornstull'],\n",
       "      dtype=object)"
      ]
     },
     "execution_count": 60,
     "metadata": {},
     "output_type": "execute_result"
    }
   ],
   "source": [
    "data.Område.unique()"
   ]
  },
  {
   "cell_type": "code",
   "execution_count": 73,
   "metadata": {},
   "outputs": [],
   "source": [
    "areas = [\n",
    "            'Kungsholmen',\n",
    "            'Vasastan',\n",
    "            'Östermalm',\n",
    "            'Södermalm',\n",
    "            'Gärdet',\n",
    "            'Norrmalm',\n",
    "            'Gamla Stan'\n",
    "        ]"
   ]
  },
  {
   "cell_type": "code",
   "execution_count": 74,
   "metadata": {},
   "outputs": [],
   "source": [
    "for a in areas:\n",
    "    data.loc[data.Område.str.contains(a), 'Område'] = a"
   ]
  },
  {
   "cell_type": "code",
   "execution_count": 75,
   "metadata": {},
   "outputs": [
    {
     "data": {
      "text/plain": [
       "array(['Maria', 'Vasastan', 'Kungsholmen', 'Södermalm',\n",
       "       'Hornsbergs strand', 'Östermalm', '', 'Karlaplan',\n",
       "       'Katarina/Sofia', 'Hornstull', 'Gamla Stan', 'Sofia', 'irkastan',\n",
       "       'Hornsbergs Strand', 'Högalid', 'Stockholm', 'Norrmalm',\n",
       "       'Katarina - Rosenlundshöjden', 'Katarina',\n",
       "       'Andel i bostadsförening -\\n\\n    Högalid', 'Fredhäll',\n",
       "       'Mariaberget', 'Kristineberg', 'Mariatorget', 'Röda Bergen',\n",
       "       'Kunsgholmen', 'Stadshagen', 'Hagastaden', 'Villastan'],\n",
       "      dtype=object)"
      ]
     },
     "execution_count": 75,
     "metadata": {},
     "output_type": "execute_result"
    }
   ],
   "source": [
    "data.Område.unique()"
   ]
  },
  {
   "cell_type": "code",
   "execution_count": 99,
   "metadata": {},
   "outputs": [],
   "source": [
    "area_mapper = {\n",
    "              'Högalid' : 'Södermalm',\n",
    "              'Fredhäll' : 'Kungsholmen',\n",
    "              'Maria' : 'Södermalm',\n",
    "              'Hornsberg' : 'Kungsholmen',\n",
    "              'irkastan' : 'Vasastan',\n",
    "              'Katarina' : 'Södermalm',\n",
    "              'Villastan' : 'Östermalm',\n",
    "              'Röda Bergen' : 'Vasastan',\n",
    "              'Kristineberg' : 'Kungsholmen'\n",
    "             }"
   ]
  },
  {
   "cell_type": "code",
   "execution_count": 121,
   "metadata": {},
   "outputs": [],
   "source": [
    "data = data.dropna()"
   ]
  },
  {
   "cell_type": "code",
   "execution_count": 124,
   "metadata": {},
   "outputs": [],
   "source": [
    "for a in area_mapper.keys():\n",
    "    data.loc[data.Område.str.contains(a)]['Område'] = area_mapper[a]"
   ]
  },
  {
   "cell_type": "code",
   "execution_count": 125,
   "metadata": {},
   "outputs": [
    {
     "data": {
      "text/plain": [
       "array(['Södermalm', 'Vasastan', 'Kungsholmen', 'Östermalm', '',\n",
       "       'Karlaplan', 'Hornstull', 'Gamla Stan', 'Sofia', 'Stockholm',\n",
       "       'Norrmalm', 'Kunsgholmen', 'Stadshagen', 'Hagastaden'],\n",
       "      dtype=object)"
      ]
     },
     "execution_count": 125,
     "metadata": {},
     "output_type": "execute_result"
    }
   ],
   "source": [
    "data.Område.unique()"
   ]
  },
  {
   "cell_type": "code",
   "execution_count": 126,
   "metadata": {},
   "outputs": [],
   "source": [
    "month_map = {\n",
    "        'januari' : '01',\n",
    "        'februari' : '02',\n",
    "        'mars' : '03',\n",
    "        'april': '04',\n",
    "        'maj' : '05',\n",
    "        'juni' : '06',\n",
    "        'juli' : '07',\n",
    "        'augusti' : '08',\n",
    "        'september' : '09',\n",
    "        'oktober' : '10',\n",
    "        'november' : '11',\n",
    "        'december' : '12'\n",
    "    }"
   ]
  },
  {
   "cell_type": "code",
   "execution_count": 127,
   "metadata": {},
   "outputs": [
    {
     "data": {
      "text/plain": [
       "0        oktober\n",
       "1        oktober\n",
       "2        oktober\n",
       "3        oktober\n",
       "4        oktober\n",
       "         ...    \n",
       "574    september\n",
       "575    september\n",
       "576    september\n",
       "577    september\n",
       "578    september\n",
       "Name: Datum, Length: 574, dtype: object"
      ]
     },
     "execution_count": 127,
     "metadata": {},
     "output_type": "execute_result"
    }
   ],
   "source": [
    "data.Datum.apply(lambda x: x[2:-4].strip(' '))"
   ]
  },
  {
   "cell_type": "code",
   "execution_count": 128,
   "metadata": {},
   "outputs": [
    {
     "name": "stderr",
     "output_type": "stream",
     "text": [
      "c:\\users\\erik.norlander\\py36\\lib\\site-packages\\pandas\\core\\generic.py:5208: SettingWithCopyWarning: \n",
      "A value is trying to be set on a copy of a slice from a DataFrame.\n",
      "Try using .loc[row_indexer,col_indexer] = value instead\n",
      "\n",
      "See the caveats in the documentation: http://pandas.pydata.org/pandas-docs/stable/user_guide/indexing.html#returning-a-view-versus-a-copy\n",
      "  self[name] = value\n"
     ]
    }
   ],
   "source": [
    "month_series = data.Datum.apply(lambda x: x[2:-4].strip(' ')).map(month_map)\n",
    "day_series = data.Datum.apply(lambda x: '-' + x[:2] + '-')\n",
    "year_series = data.Datum.apply(lambda x: x[-4:])\n",
    "data.Datum = month_series+day_series+year_series"
   ]
  },
  {
   "cell_type": "code",
   "execution_count": 129,
   "metadata": {},
   "outputs": [],
   "source": [
    "data.Datum = pd.to_datetime(data.Datum)"
   ]
  },
  {
   "cell_type": "code",
   "execution_count": 130,
   "metadata": {},
   "outputs": [
    {
     "name": "stdout",
     "output_type": "stream",
     "text": [
      "<class 'pandas.core.frame.DataFrame'>\n",
      "Int64Index: 574 entries, 0 to 578\n",
      "Data columns (total 10 columns):\n",
      "Datum                    574 non-null datetime64[ns]\n",
      "Område                   574 non-null object\n",
      "Pris per kvadratmeter    574 non-null int64\n",
      "Begärt pris              574 non-null int64\n",
      "Antal rum                574 non-null float64\n",
      "Boarea                   574 non-null float64\n",
      "Avgift/månad             574 non-null int64\n",
      "Driftskostnad            574 non-null int64\n",
      "Byggår                   574 non-null int64\n",
      "Slutpris                 574 non-null int64\n",
      "dtypes: datetime64[ns](1), float64(2), int64(6), object(1)\n",
      "memory usage: 49.3+ KB\n"
     ]
    }
   ],
   "source": [
    "data.info()"
   ]
  },
  {
   "cell_type": "code",
   "execution_count": 141,
   "metadata": {},
   "outputs": [
    {
     "data": {
      "text/html": [
       "<div>\n",
       "<style scoped>\n",
       "    .dataframe tbody tr th:only-of-type {\n",
       "        vertical-align: middle;\n",
       "    }\n",
       "\n",
       "    .dataframe tbody tr th {\n",
       "        vertical-align: top;\n",
       "    }\n",
       "\n",
       "    .dataframe thead th {\n",
       "        text-align: right;\n",
       "    }\n",
       "</style>\n",
       "<table border=\"1\" class=\"dataframe\">\n",
       "  <thead>\n",
       "    <tr style=\"text-align: right;\">\n",
       "      <th></th>\n",
       "      <th>Datum</th>\n",
       "      <th>Område</th>\n",
       "      <th>Pris per kvadratmeter</th>\n",
       "      <th>Begärt pris</th>\n",
       "      <th>Antal rum</th>\n",
       "      <th>Boarea</th>\n",
       "      <th>Avgift/månad</th>\n",
       "      <th>Driftskostnad</th>\n",
       "      <th>Byggår</th>\n",
       "      <th>Slutpris</th>\n",
       "    </tr>\n",
       "  </thead>\n",
       "  <tbody>\n",
       "    <tr>\n",
       "      <td>267</td>\n",
       "      <td>2019-10-12</td>\n",
       "      <td>Kungsholmen</td>\n",
       "      <td>91974</td>\n",
       "      <td>3195000</td>\n",
       "      <td>1.5</td>\n",
       "      <td>38.0</td>\n",
       "      <td>1223</td>\n",
       "      <td>6100</td>\n",
       "      <td>1927</td>\n",
       "      <td>3495000</td>\n",
       "    </tr>\n",
       "    <tr>\n",
       "      <td>236</td>\n",
       "      <td>2019-10-12</td>\n",
       "      <td>Kungsholmen</td>\n",
       "      <td>91974</td>\n",
       "      <td>3195000</td>\n",
       "      <td>1.5</td>\n",
       "      <td>38.0</td>\n",
       "      <td>1223</td>\n",
       "      <td>6100</td>\n",
       "      <td>1927</td>\n",
       "      <td>3495000</td>\n",
       "    </tr>\n",
       "    <tr>\n",
       "      <td>238</td>\n",
       "      <td>2019-10-11</td>\n",
       "      <td>Kungsholmen</td>\n",
       "      <td>74000</td>\n",
       "      <td>3395000</td>\n",
       "      <td>2.0</td>\n",
       "      <td>47.5</td>\n",
       "      <td>3304</td>\n",
       "      <td>4800</td>\n",
       "      <td>1937</td>\n",
       "      <td>3515000</td>\n",
       "    </tr>\n",
       "    <tr>\n",
       "      <td>269</td>\n",
       "      <td>2019-10-11</td>\n",
       "      <td>Kungsholmen</td>\n",
       "      <td>74000</td>\n",
       "      <td>3395000</td>\n",
       "      <td>2.0</td>\n",
       "      <td>47.5</td>\n",
       "      <td>3304</td>\n",
       "      <td>4800</td>\n",
       "      <td>1937</td>\n",
       "      <td>3515000</td>\n",
       "    </tr>\n",
       "    <tr>\n",
       "      <td>281</td>\n",
       "      <td>2019-10-11</td>\n",
       "      <td>Östermalm</td>\n",
       "      <td>138889</td>\n",
       "      <td>13900000</td>\n",
       "      <td>4.0</td>\n",
       "      <td>99.0</td>\n",
       "      <td>4131</td>\n",
       "      <td>12000</td>\n",
       "      <td>1929</td>\n",
       "      <td>13750000</td>\n",
       "    </tr>\n",
       "    <tr>\n",
       "      <td>...</td>\n",
       "      <td>...</td>\n",
       "      <td>...</td>\n",
       "      <td>...</td>\n",
       "      <td>...</td>\n",
       "      <td>...</td>\n",
       "      <td>...</td>\n",
       "      <td>...</td>\n",
       "      <td>...</td>\n",
       "      <td>...</td>\n",
       "      <td>...</td>\n",
       "    </tr>\n",
       "    <tr>\n",
       "      <td>574</td>\n",
       "      <td>2019-09-19</td>\n",
       "      <td>Vasastan</td>\n",
       "      <td>93077</td>\n",
       "      <td>5495000</td>\n",
       "      <td>2.0</td>\n",
       "      <td>65.0</td>\n",
       "      <td>2471</td>\n",
       "      <td>9036</td>\n",
       "      <td>1905</td>\n",
       "      <td>6050000</td>\n",
       "    </tr>\n",
       "    <tr>\n",
       "      <td>575</td>\n",
       "      <td>2019-09-19</td>\n",
       "      <td>Östermalm</td>\n",
       "      <td>85333</td>\n",
       "      <td>6350000</td>\n",
       "      <td>3.0</td>\n",
       "      <td>75.0</td>\n",
       "      <td>1935</td>\n",
       "      <td>4800</td>\n",
       "      <td>1959</td>\n",
       "      <td>6400000</td>\n",
       "    </tr>\n",
       "    <tr>\n",
       "      <td>576</td>\n",
       "      <td>2019-09-19</td>\n",
       "      <td>Södermalm</td>\n",
       "      <td>92373</td>\n",
       "      <td>4495000</td>\n",
       "      <td>2.0</td>\n",
       "      <td>59.0</td>\n",
       "      <td>3188</td>\n",
       "      <td>5400</td>\n",
       "      <td>1919</td>\n",
       "      <td>5450000</td>\n",
       "    </tr>\n",
       "    <tr>\n",
       "      <td>577</td>\n",
       "      <td>2019-09-19</td>\n",
       "      <td>Södermalm</td>\n",
       "      <td>88814</td>\n",
       "      <td>2250000</td>\n",
       "      <td>1.0</td>\n",
       "      <td>29.5</td>\n",
       "      <td>1284</td>\n",
       "      <td>2400</td>\n",
       "      <td>1964</td>\n",
       "      <td>2620000</td>\n",
       "    </tr>\n",
       "    <tr>\n",
       "      <td>578</td>\n",
       "      <td>2019-09-19</td>\n",
       "      <td>Sofia</td>\n",
       "      <td>88971</td>\n",
       "      <td>2595000</td>\n",
       "      <td>1.5</td>\n",
       "      <td>34.0</td>\n",
       "      <td>1781</td>\n",
       "      <td>4800</td>\n",
       "      <td>1911</td>\n",
       "      <td>3025000</td>\n",
       "    </tr>\n",
       "  </tbody>\n",
       "</table>\n",
       "<p>574 rows × 10 columns</p>\n",
       "</div>"
      ],
      "text/plain": [
       "         Datum       Område  Pris per kvadratmeter  Begärt pris  Antal rum  \\\n",
       "267 2019-10-12  Kungsholmen                  91974      3195000        1.5   \n",
       "236 2019-10-12  Kungsholmen                  91974      3195000        1.5   \n",
       "238 2019-10-11  Kungsholmen                  74000      3395000        2.0   \n",
       "269 2019-10-11  Kungsholmen                  74000      3395000        2.0   \n",
       "281 2019-10-11    Östermalm                 138889     13900000        4.0   \n",
       "..         ...          ...                    ...          ...        ...   \n",
       "574 2019-09-19     Vasastan                  93077      5495000        2.0   \n",
       "575 2019-09-19    Östermalm                  85333      6350000        3.0   \n",
       "576 2019-09-19    Södermalm                  92373      4495000        2.0   \n",
       "577 2019-09-19    Södermalm                  88814      2250000        1.0   \n",
       "578 2019-09-19        Sofia                  88971      2595000        1.5   \n",
       "\n",
       "     Boarea  Avgift/månad  Driftskostnad  Byggår  Slutpris  \n",
       "267    38.0          1223           6100    1927   3495000  \n",
       "236    38.0          1223           6100    1927   3495000  \n",
       "238    47.5          3304           4800    1937   3515000  \n",
       "269    47.5          3304           4800    1937   3515000  \n",
       "281    99.0          4131          12000    1929  13750000  \n",
       "..      ...           ...            ...     ...       ...  \n",
       "574    65.0          2471           9036    1905   6050000  \n",
       "575    75.0          1935           4800    1959   6400000  \n",
       "576    59.0          3188           5400    1919   5450000  \n",
       "577    29.5          1284           2400    1964   2620000  \n",
       "578    34.0          1781           4800    1911   3025000  \n",
       "\n",
       "[574 rows x 10 columns]"
      ]
     },
     "execution_count": 141,
     "metadata": {},
     "output_type": "execute_result"
    }
   ],
   "source": [
    "data.sort_values('Datum', ascending=False)"
   ]
  },
  {
   "cell_type": "code",
   "execution_count": 133,
   "metadata": {},
   "outputs": [],
   "source": [
    "data.to_csv('bostadsratter_stockholm_2019_okt16.csv')"
   ]
  },
  {
   "cell_type": "code",
   "execution_count": 134,
   "metadata": {},
   "outputs": [
    {
     "name": "stderr",
     "output_type": "stream",
     "text": [
      "c:\\users\\erik.norlander\\py36\\lib\\site-packages\\pandas\\plotting\\_matplotlib\\converter.py:103: FutureWarning: Using an implicitly registered datetime converter for a matplotlib plotting method. The converter was registered by pandas on import. Future versions of pandas will require you to explicitly register matplotlib converters.\n",
      "\n",
      "To register the converters:\n",
      "\t>>> from pandas.plotting import register_matplotlib_converters\n",
      "\t>>> register_matplotlib_converters()\n",
      "  warnings.warn(msg, FutureWarning)\n"
     ]
    },
    {
     "data": {
      "text/plain": [
       "[<matplotlib.lines.Line2D at 0x16d9eae1c88>]"
      ]
     },
     "execution_count": 134,
     "metadata": {},
     "output_type": "execute_result"
    }
   ],
   "source": [
    "import matplotlib.pyplot as plt\n",
    "plt.plot(data.Datum, data.Slutpris)"
   ]
  },
  {
   "cell_type": "code",
   "execution_count": 135,
   "metadata": {},
   "outputs": [],
   "source": [
    "pris = data['Pris per kvadratmeter']\n",
    "pris.index = data.Datum"
   ]
  },
  {
   "cell_type": "code",
   "execution_count": 138,
   "metadata": {},
   "outputs": [
    {
     "data": {
      "text/plain": [
       "<matplotlib.axes._subplots.AxesSubplot at 0x16d9ee66160>"
      ]
     },
     "execution_count": 138,
     "metadata": {},
     "output_type": "execute_result"
    },
    {
     "data": {
      "image/png": "[encoded data removed]",
      "text/plain": [
       "<Figure size 432x288 with 1 Axes>"
      ]
     },
     "metadata": {
      "needs_background": "light"
     },
     "output_type": "display_data"
    }
   ],
   "source": [
    "pris.resample('d').mean().plot()"
   ]
  },
  {
   "cell_type": "code",
   "execution_count": 992,
   "metadata": {},
   "outputs": [
    {
     "data": {
      "text/plain": [
       "0                                      \n",
       "1       Vasastan - Röda Bergen/Torsplan\n",
       "2                              Vasastan\n",
       "3                              ödermalm\n",
       "4                             Östermalm\n",
       "                     ...               \n",
       "4988                          Östermalm\n",
       "4989                           ödermalm\n",
       "4990                                fia\n",
       "4991                              Maria\n",
       "4992                             Gärdet\n",
       "Name: Område, Length: 4982, dtype: object"
      ]
     },
     "execution_count": 992,
     "metadata": {},
     "output_type": "execute_result"
    }
   ],
   "source": [
    "data.Område"
   ]
  },
  {
   "cell_type": "code",
   "execution_count": 139,
   "metadata": {},
   "outputs": [
    {
     "data": {
      "text/html": [
       "<div>\n",
       "<style scoped>\n",
       "    .dataframe tbody tr th:only-of-type {\n",
       "        vertical-align: middle;\n",
       "    }\n",
       "\n",
       "    .dataframe tbody tr th {\n",
       "        vertical-align: top;\n",
       "    }\n",
       "\n",
       "    .dataframe thead th {\n",
       "        text-align: right;\n",
       "    }\n",
       "</style>\n",
       "<table border=\"1\" class=\"dataframe\">\n",
       "  <thead>\n",
       "    <tr style=\"text-align: right;\">\n",
       "      <th></th>\n",
       "      <th>Datum</th>\n",
       "      <th>Område</th>\n",
       "      <th>Pris per kvadratmeter</th>\n",
       "      <th>Begärt pris</th>\n",
       "      <th>Antal rum</th>\n",
       "      <th>Boarea</th>\n",
       "      <th>Avgift/månad</th>\n",
       "      <th>Driftskostnad</th>\n",
       "      <th>Byggår</th>\n",
       "      <th>Slutpris</th>\n",
       "    </tr>\n",
       "  </thead>\n",
       "  <tbody>\n",
       "    <tr>\n",
       "      <td>0</td>\n",
       "      <td>2019-10-11</td>\n",
       "      <td>Södermalm</td>\n",
       "      <td>80714</td>\n",
       "      <td>5450000</td>\n",
       "      <td>2.0</td>\n",
       "      <td>70.0</td>\n",
       "      <td>3979</td>\n",
       "      <td>0</td>\n",
       "      <td>1907</td>\n",
       "      <td>5650000</td>\n",
       "    </tr>\n",
       "    <tr>\n",
       "      <td>1</td>\n",
       "      <td>2019-10-11</td>\n",
       "      <td>Vasastan</td>\n",
       "      <td>88655</td>\n",
       "      <td>9495000</td>\n",
       "      <td>5.0</td>\n",
       "      <td>119.0</td>\n",
       "      <td>5134</td>\n",
       "      <td>0</td>\n",
       "      <td>1926</td>\n",
       "      <td>10550000</td>\n",
       "    </tr>\n",
       "    <tr>\n",
       "      <td>2</td>\n",
       "      <td>2019-10-11</td>\n",
       "      <td>Vasastan</td>\n",
       "      <td>85246</td>\n",
       "      <td>4995000</td>\n",
       "      <td>2.0</td>\n",
       "      <td>61.0</td>\n",
       "      <td>2415</td>\n",
       "      <td>0</td>\n",
       "      <td>1905</td>\n",
       "      <td>5200000</td>\n",
       "    </tr>\n",
       "    <tr>\n",
       "      <td>3</td>\n",
       "      <td>2019-10-11</td>\n",
       "      <td>Kungsholmen</td>\n",
       "      <td>73438</td>\n",
       "      <td>4250000</td>\n",
       "      <td>2.0</td>\n",
       "      <td>64.0</td>\n",
       "      <td>3156</td>\n",
       "      <td>0</td>\n",
       "      <td>2008</td>\n",
       "      <td>4700000</td>\n",
       "    </tr>\n",
       "    <tr>\n",
       "      <td>4</td>\n",
       "      <td>2019-10-11</td>\n",
       "      <td>Södermalm</td>\n",
       "      <td>108621</td>\n",
       "      <td>2695000</td>\n",
       "      <td>1.0</td>\n",
       "      <td>29.0</td>\n",
       "      <td>1153</td>\n",
       "      <td>0</td>\n",
       "      <td>1913</td>\n",
       "      <td>3150000</td>\n",
       "    </tr>\n",
       "    <tr>\n",
       "      <td>...</td>\n",
       "      <td>...</td>\n",
       "      <td>...</td>\n",
       "      <td>...</td>\n",
       "      <td>...</td>\n",
       "      <td>...</td>\n",
       "      <td>...</td>\n",
       "      <td>...</td>\n",
       "      <td>...</td>\n",
       "      <td>...</td>\n",
       "      <td>...</td>\n",
       "    </tr>\n",
       "    <tr>\n",
       "      <td>574</td>\n",
       "      <td>2019-09-19</td>\n",
       "      <td>Vasastan</td>\n",
       "      <td>93077</td>\n",
       "      <td>5495000</td>\n",
       "      <td>2.0</td>\n",
       "      <td>65.0</td>\n",
       "      <td>2471</td>\n",
       "      <td>9036</td>\n",
       "      <td>1905</td>\n",
       "      <td>6050000</td>\n",
       "    </tr>\n",
       "    <tr>\n",
       "      <td>575</td>\n",
       "      <td>2019-09-19</td>\n",
       "      <td>Östermalm</td>\n",
       "      <td>85333</td>\n",
       "      <td>6350000</td>\n",
       "      <td>3.0</td>\n",
       "      <td>75.0</td>\n",
       "      <td>1935</td>\n",
       "      <td>4800</td>\n",
       "      <td>1959</td>\n",
       "      <td>6400000</td>\n",
       "    </tr>\n",
       "    <tr>\n",
       "      <td>576</td>\n",
       "      <td>2019-09-19</td>\n",
       "      <td>Södermalm</td>\n",
       "      <td>92373</td>\n",
       "      <td>4495000</td>\n",
       "      <td>2.0</td>\n",
       "      <td>59.0</td>\n",
       "      <td>3188</td>\n",
       "      <td>5400</td>\n",
       "      <td>1919</td>\n",
       "      <td>5450000</td>\n",
       "    </tr>\n",
       "    <tr>\n",
       "      <td>577</td>\n",
       "      <td>2019-09-19</td>\n",
       "      <td>Södermalm</td>\n",
       "      <td>88814</td>\n",
       "      <td>2250000</td>\n",
       "      <td>1.0</td>\n",
       "      <td>29.5</td>\n",
       "      <td>1284</td>\n",
       "      <td>2400</td>\n",
       "      <td>1964</td>\n",
       "      <td>2620000</td>\n",
       "    </tr>\n",
       "    <tr>\n",
       "      <td>578</td>\n",
       "      <td>2019-09-19</td>\n",
       "      <td>Sofia</td>\n",
       "      <td>88971</td>\n",
       "      <td>2595000</td>\n",
       "      <td>1.5</td>\n",
       "      <td>34.0</td>\n",
       "      <td>1781</td>\n",
       "      <td>4800</td>\n",
       "      <td>1911</td>\n",
       "      <td>3025000</td>\n",
       "    </tr>\n",
       "  </tbody>\n",
       "</table>\n",
       "<p>574 rows × 10 columns</p>\n",
       "</div>"
      ],
      "text/plain": [
       "         Datum       Område  Pris per kvadratmeter  Begärt pris  Antal rum  \\\n",
       "0   2019-10-11    Södermalm                  80714      5450000        2.0   \n",
       "1   2019-10-11     Vasastan                  88655      9495000        5.0   \n",
       "2   2019-10-11     Vasastan                  85246      4995000        2.0   \n",
       "3   2019-10-11  Kungsholmen                  73438      4250000        2.0   \n",
       "4   2019-10-11    Södermalm                 108621      2695000        1.0   \n",
       "..         ...          ...                    ...          ...        ...   \n",
       "574 2019-09-19     Vasastan                  93077      5495000        2.0   \n",
       "575 2019-09-19    Östermalm                  85333      6350000        3.0   \n",
       "576 2019-09-19    Södermalm                  92373      4495000        2.0   \n",
       "577 2019-09-19    Södermalm                  88814      2250000        1.0   \n",
       "578 2019-09-19        Sofia                  88971      2595000        1.5   \n",
       "\n",
       "     Boarea  Avgift/månad  Driftskostnad  Byggår  Slutpris  \n",
       "0      70.0          3979              0    1907   5650000  \n",
       "1     119.0          5134              0    1926  10550000  \n",
       "2      61.0          2415              0    1905   5200000  \n",
       "3      64.0          3156              0    2008   4700000  \n",
       "4      29.0          1153              0    1913   3150000  \n",
       "..      ...           ...            ...     ...       ...  \n",
       "574    65.0          2471           9036    1905   6050000  \n",
       "575    75.0          1935           4800    1959   6400000  \n",
       "576    59.0          3188           5400    1919   5450000  \n",
       "577    29.5          1284           2400    1964   2620000  \n",
       "578    34.0          1781           4800    1911   3025000  \n",
       "\n",
       "[574 rows x 10 columns]"
      ]
     },
     "execution_count": 139,
     "metadata": {},
     "output_type": "execute_result"
    }
   ],
   "source": [
    "data"
   ]
  },
  {
   "cell_type": "code",
   "execution_count": null,
   "metadata": {},
   "outputs": [],
   "source": []
  }
 ],
 "metadata": {
  "kernelspec": {
   "display_name": "Python 3",
   "language": "python",
   "name": "python3"
  },
  "language_info": {
   "codemirror_mode": {
    "name": "ipython",
    "version": 3
   },
   "file_extension": ".py",
   "mimetype": "text/x-python",
   "name": "python",
   "nbconvert_exporter": "python",
   "pygments_lexer": "ipython3",
   "version": "3.6.8"
  }
 },
 "nbformat": 4,
 "nbformat_minor": 2
}
